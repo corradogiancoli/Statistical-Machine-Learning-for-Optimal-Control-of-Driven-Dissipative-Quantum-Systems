{
  "cells": [
    {
      "cell_type": "markdown",
      "metadata": {
        "id": "view-in-github",
        "colab_type": "text"
      },
      "source": [
        "<a href=\"https://colab.research.google.com/github/sayak395/Jaynes-Cummings-model/blob/main/Driven_Jaynes_Cummings_model.ipynb\" target=\"_parent\"><img src=\"https://colab.research.google.com/assets/colab-badge.svg\" alt=\"Open In Colab\"/></a>"
      ]
    },
    {
      "cell_type": "code",
      "execution_count": 1,
      "metadata": {
        "colab": {
          "base_uri": "https://localhost:8080/"
        },
        "id": "SDMm_pE6exj8",
        "outputId": "07ecbd21-17da-4212-c953-f76dce3d864e"
      },
      "outputs": [
        {
          "output_type": "stream",
          "name": "stdout",
          "text": [
            "Collecting qutip\n",
            "  Downloading qutip-5.1.1-cp311-cp311-manylinux_2_17_x86_64.manylinux2014_x86_64.whl.metadata (9.2 kB)\n",
            "Requirement already satisfied: numpy>=1.22 in /usr/local/lib/python3.11/dist-packages (from qutip) (1.26.4)\n",
            "Requirement already satisfied: scipy>=1.9 in /usr/local/lib/python3.11/dist-packages (from qutip) (1.14.1)\n",
            "Requirement already satisfied: packaging in /usr/local/lib/python3.11/dist-packages (from qutip) (24.2)\n",
            "Downloading qutip-5.1.1-cp311-cp311-manylinux_2_17_x86_64.manylinux2014_x86_64.whl (30.1 MB)\n",
            "\u001b[2K   \u001b[90m━━━━━━━━━━━━━━━━━━━━━━━━━━━━━━━━━━━━━━━━\u001b[0m \u001b[32m30.1/30.1 MB\u001b[0m \u001b[31m74.1 MB/s\u001b[0m eta \u001b[36m0:00:00\u001b[0m\n",
            "\u001b[?25hInstalling collected packages: qutip\n",
            "Successfully installed qutip-5.1.1\n"
          ]
        }
      ],
      "source": [
        "!pip install qutip\n",
        "\n",
        "import numpy as np\n",
        "import matplotlib\n",
        "import matplotlib.pyplot as plt\n",
        "from qutip import (basis, destroy, mesolve, qeye, tensor, create, sigmaz, sigmam, sigmap, fock, Qobj, fidelity, Options)\n",
        "from scipy.signal import find_peaks\n",
        "\n",
        "# System parameters\n",
        "wc = 1.0 * 2 * np.pi  # cavity frequency\n",
        "wa = 1.0 * 2 * np.pi  # atom frequency\n",
        "g = 0.05 * 2 * np.pi # cavity-atom coupling\n",
        "\n",
        "# Hilbert space dimension for the cavity\n",
        "n_cavity = 10\n",
        "\n",
        "sigma_z_np = np.array([[1 , 0],\n",
        "                   [0, -1]])\n",
        "sigma_z_alt = Qobj(sigma_z_np)\n",
        "\n",
        "sigma_plus_np = np.array([[0, 1],\n",
        "                   [0, 0]])\n",
        "\n",
        "sigma_plus_alt = Qobj(sigma_plus_np)\n",
        "\n",
        "sigma_minus_np = np.transpose(sigma_plus_np)\n",
        "\n",
        "sigma_minus_alt = Qobj(sigma_minus_np)\n",
        "\n",
        "def create_a(n):\n",
        "\n",
        "    matrix = np.zeros((n, n))\n",
        "\n",
        "    for i in range(matrix.shape[0]):\n",
        "        for j in range(matrix.shape[1]):\n",
        "            if j == i - 1:\n",
        "                matrix[i , j] = np.sqrt(i)\n",
        "\n",
        "    return Qobj(np.transpose(matrix))\n",
        "\n",
        "\n",
        "###########################\n",
        "# Define the Operators\n",
        "###########################\n",
        "\n",
        "sigma_minus = tensor(qeye(n_cavity), sigma_minus_alt) # atomic lowering operator\n",
        "sigma_plus =  tensor(qeye(n_cavity), sigma_plus_alt)  # atomic raising operator\n",
        "sigma_z = tensor(qeye(n_cavity), sigma_z_alt)     # atomic z operator\n",
        "a = tensor(create_a(n_cavity), qeye(2))   # cavity annihilation operator\n",
        "spin_down = fock(2, 1)\n",
        "spin_up = fock(2, 0)\n"
      ]
    },
    {
      "cell_type": "code",
      "source": [
        "f = 1.0 * 2 * np.pi # laser-atom coupling\n",
        "w0 = 1.0 * 2 * np.pi # laser driving frequency"
      ],
      "metadata": {
        "id": "kp5kdpyiMayZ"
      },
      "execution_count": 2,
      "outputs": []
    },
    {
      "cell_type": "code",
      "execution_count": 3,
      "metadata": {
        "id": "iUfA3JEwH5d4"
      },
      "outputs": [],
      "source": [
        "delta_c = wc - w0\n",
        "delta_a = wa - w0\n",
        "times = np.arange(0, 50, 1e-5)\n",
        "tau = wc * times\n",
        "\n",
        "psi0 = tensor(fock(n_cavity, 3), spin_down)"
      ]
    },
    {
      "cell_type": "code",
      "execution_count": 4,
      "metadata": {
        "id": "T_hLorV3fkXK"
      },
      "outputs": [],
      "source": [
        "H_driven_RWA = delta_c * a.dag() * a + 0.5 * delta_a * sigma_z + g * (sigma_plus * a + sigma_minus * a.dag()) + 0.5 * f * (sigma_plus + sigma_minus)\n",
        "\n",
        "H_driven_RWA = H_driven_RWA/wc"
      ]
    },
    {
      "cell_type": "code",
      "execution_count": 5,
      "metadata": {
        "id": "EUVwzkoQfmQZ",
        "colab": {
          "base_uri": "https://localhost:8080/",
          "height": 287
        },
        "outputId": "029c3b44-c1c9-42b5-aea6-2e7e076c2958"
      },
      "outputs": [
        {
          "output_type": "error",
          "ename": "KeyboardInterrupt",
          "evalue": "",
          "traceback": [
            "\u001b[0;31m---------------------------------------------------------------------------\u001b[0m",
            "\u001b[0;31mKeyboardInterrupt\u001b[0m                         Traceback (most recent call last)",
            "\u001b[0;32m<ipython-input-5-b7e66aa83d2a>\u001b[0m in \u001b[0;36m<cell line: 0>\u001b[0;34m()\u001b[0m\n\u001b[0;32m----> 1\u001b[0;31m \u001b[0mresult\u001b[0m \u001b[0;34m=\u001b[0m \u001b[0mmesolve\u001b[0m\u001b[0;34m(\u001b[0m\u001b[0mH_driven_RWA\u001b[0m\u001b[0;34m,\u001b[0m \u001b[0mpsi0\u001b[0m\u001b[0;34m,\u001b[0m \u001b[0mtau\u001b[0m\u001b[0;34m,\u001b[0m \u001b[0mc_ops\u001b[0m \u001b[0;34m=\u001b[0m \u001b[0;34m[\u001b[0m\u001b[0;34m]\u001b[0m\u001b[0;34m,\u001b[0m \u001b[0me_ops\u001b[0m \u001b[0;34m=\u001b[0m \u001b[0;34m[\u001b[0m\u001b[0ma\u001b[0m\u001b[0;34m.\u001b[0m\u001b[0mdag\u001b[0m\u001b[0;34m(\u001b[0m\u001b[0;34m)\u001b[0m \u001b[0;34m*\u001b[0m \u001b[0ma\u001b[0m\u001b[0;34m,\u001b[0m \u001b[0msigma_plus\u001b[0m \u001b[0;34m*\u001b[0m \u001b[0msigma_minus\u001b[0m\u001b[0;34m]\u001b[0m\u001b[0;34m)\u001b[0m\u001b[0;34m\u001b[0m\u001b[0;34m\u001b[0m\u001b[0m\n\u001b[0m",
            "\u001b[0;32m/usr/local/lib/python3.11/dist-packages/qutip/solver/mesolve.py\u001b[0m in \u001b[0;36mmesolve\u001b[0;34m(H, rho0, tlist, c_ops, _e_ops, _args, _options, e_ops, args, options, **kwargs)\u001b[0m\n\u001b[1;32m    159\u001b[0m \u001b[0;34m\u001b[0m\u001b[0m\n\u001b[1;32m    160\u001b[0m     \u001b[0;32mif\u001b[0m \u001b[0;32mnot\u001b[0m \u001b[0muse_mesolve\u001b[0m\u001b[0;34m:\u001b[0m\u001b[0;34m\u001b[0m\u001b[0;34m\u001b[0m\u001b[0m\n\u001b[0;32m--> 161\u001b[0;31m         return sesolve(H, rho0, tlist, e_ops=e_ops, args=args,\n\u001b[0m\u001b[1;32m    162\u001b[0m                        options=options)\n\u001b[1;32m    163\u001b[0m \u001b[0;34m\u001b[0m\u001b[0m\n",
            "\u001b[0;32m/usr/local/lib/python3.11/dist-packages/qutip/solver/sesolve.py\u001b[0m in \u001b[0;36msesolve\u001b[0;34m(H, psi0, tlist, _e_ops, _args, _options, e_ops, args, options, **kwargs)\u001b[0m\n\u001b[1;32m    125\u001b[0m     \u001b[0mH\u001b[0m \u001b[0;34m=\u001b[0m \u001b[0mQobjEvo\u001b[0m\u001b[0;34m(\u001b[0m\u001b[0mH\u001b[0m\u001b[0;34m,\u001b[0m \u001b[0margs\u001b[0m\u001b[0;34m=\u001b[0m\u001b[0margs\u001b[0m\u001b[0;34m,\u001b[0m \u001b[0mtlist\u001b[0m\u001b[0;34m=\u001b[0m\u001b[0mtlist\u001b[0m\u001b[0;34m)\u001b[0m\u001b[0;34m\u001b[0m\u001b[0;34m\u001b[0m\u001b[0m\n\u001b[1;32m    126\u001b[0m     \u001b[0msolver\u001b[0m \u001b[0;34m=\u001b[0m \u001b[0mSESolver\u001b[0m\u001b[0;34m(\u001b[0m\u001b[0mH\u001b[0m\u001b[0;34m,\u001b[0m \u001b[0moptions\u001b[0m\u001b[0;34m=\u001b[0m\u001b[0moptions\u001b[0m\u001b[0;34m)\u001b[0m\u001b[0;34m\u001b[0m\u001b[0;34m\u001b[0m\u001b[0m\n\u001b[0;32m--> 127\u001b[0;31m     \u001b[0;32mreturn\u001b[0m \u001b[0msolver\u001b[0m\u001b[0;34m.\u001b[0m\u001b[0mrun\u001b[0m\u001b[0;34m(\u001b[0m\u001b[0mpsi0\u001b[0m\u001b[0;34m,\u001b[0m \u001b[0mtlist\u001b[0m\u001b[0;34m,\u001b[0m \u001b[0me_ops\u001b[0m\u001b[0;34m=\u001b[0m\u001b[0me_ops\u001b[0m\u001b[0;34m)\u001b[0m\u001b[0;34m\u001b[0m\u001b[0;34m\u001b[0m\u001b[0m\n\u001b[0m\u001b[1;32m    128\u001b[0m \u001b[0;34m\u001b[0m\u001b[0m\n\u001b[1;32m    129\u001b[0m \u001b[0;34m\u001b[0m\u001b[0m\n",
            "\u001b[0;32m/usr/local/lib/python3.11/dist-packages/qutip/solver/solver_base.py\u001b[0m in \u001b[0;36mrun\u001b[0;34m(self, state0, tlist, e_ops, args)\u001b[0m\n\u001b[1;32m    197\u001b[0m         \u001b[0;32mfor\u001b[0m \u001b[0mt\u001b[0m\u001b[0;34m,\u001b[0m \u001b[0mstate\u001b[0m \u001b[0;32min\u001b[0m \u001b[0mself\u001b[0m\u001b[0;34m.\u001b[0m\u001b[0m_integrator\u001b[0m\u001b[0;34m.\u001b[0m\u001b[0mrun\u001b[0m\u001b[0;34m(\u001b[0m\u001b[0mtlist\u001b[0m\u001b[0;34m)\u001b[0m\u001b[0;34m:\u001b[0m\u001b[0;34m\u001b[0m\u001b[0;34m\u001b[0m\u001b[0m\n\u001b[1;32m    198\u001b[0m             \u001b[0mprogress_bar\u001b[0m\u001b[0;34m.\u001b[0m\u001b[0mupdate\u001b[0m\u001b[0;34m(\u001b[0m\u001b[0;34m)\u001b[0m\u001b[0;34m\u001b[0m\u001b[0;34m\u001b[0m\u001b[0m\n\u001b[0;32m--> 199\u001b[0;31m             \u001b[0mresults\u001b[0m\u001b[0;34m.\u001b[0m\u001b[0madd\u001b[0m\u001b[0;34m(\u001b[0m\u001b[0mt\u001b[0m\u001b[0;34m,\u001b[0m \u001b[0mself\u001b[0m\u001b[0;34m.\u001b[0m\u001b[0m_restore_state\u001b[0m\u001b[0;34m(\u001b[0m\u001b[0mstate\u001b[0m\u001b[0;34m,\u001b[0m \u001b[0mcopy\u001b[0m\u001b[0;34m=\u001b[0m\u001b[0;32mFalse\u001b[0m\u001b[0;34m)\u001b[0m\u001b[0;34m)\u001b[0m\u001b[0;34m\u001b[0m\u001b[0;34m\u001b[0m\u001b[0m\n\u001b[0m\u001b[1;32m    200\u001b[0m         \u001b[0mprogress_bar\u001b[0m\u001b[0;34m.\u001b[0m\u001b[0mfinished\u001b[0m\u001b[0;34m(\u001b[0m\u001b[0;34m)\u001b[0m\u001b[0;34m\u001b[0m\u001b[0;34m\u001b[0m\u001b[0m\n\u001b[1;32m    201\u001b[0m \u001b[0;34m\u001b[0m\u001b[0m\n",
            "\u001b[0;32m/usr/local/lib/python3.11/dist-packages/qutip/solver/result.py\u001b[0m in \u001b[0;36madd\u001b[0;34m(self, t, state)\u001b[0m\n\u001b[1;32m    330\u001b[0m \u001b[0;34m\u001b[0m\u001b[0m\n\u001b[1;32m    331\u001b[0m         \u001b[0;32mfor\u001b[0m \u001b[0mop\u001b[0m \u001b[0;32min\u001b[0m \u001b[0mself\u001b[0m\u001b[0;34m.\u001b[0m\u001b[0m_state_processors\u001b[0m\u001b[0;34m:\u001b[0m\u001b[0;34m\u001b[0m\u001b[0;34m\u001b[0m\u001b[0m\n\u001b[0;32m--> 332\u001b[0;31m             \u001b[0mop\u001b[0m\u001b[0;34m(\u001b[0m\u001b[0mt\u001b[0m\u001b[0;34m,\u001b[0m \u001b[0mstate\u001b[0m\u001b[0;34m)\u001b[0m\u001b[0;34m\u001b[0m\u001b[0;34m\u001b[0m\u001b[0m\n\u001b[0m\u001b[1;32m    333\u001b[0m \u001b[0;34m\u001b[0m\u001b[0m\n\u001b[1;32m    334\u001b[0m     \u001b[0;32mdef\u001b[0m \u001b[0m__repr__\u001b[0m\u001b[0;34m(\u001b[0m\u001b[0mself\u001b[0m\u001b[0;34m)\u001b[0m\u001b[0;34m:\u001b[0m\u001b[0;34m\u001b[0m\u001b[0;34m\u001b[0m\u001b[0m\n",
            "\u001b[0;32m/usr/local/lib/python3.11/dist-packages/qutip/solver/result.py\u001b[0m in \u001b[0;36m_store\u001b[0;34m(self, t, state)\u001b[0m\n\u001b[1;32m     71\u001b[0m         \u001b[0;34m:\u001b[0m\u001b[0;32mclass\u001b[0m\u001b[0;34m:\u001b[0m\u001b[0;31m`\u001b[0m\u001b[0;34m~\u001b[0m\u001b[0mResult\u001b[0m\u001b[0;31m`\u001b[0m\u001b[0;34m.\u001b[0m\u001b[0;34m\u001b[0m\u001b[0;34m\u001b[0m\u001b[0m\n\u001b[1;32m     72\u001b[0m         \"\"\"\n\u001b[0;32m---> 73\u001b[0;31m         \u001b[0mself\u001b[0m\u001b[0;34m.\u001b[0m\u001b[0m_append\u001b[0m\u001b[0;34m(\u001b[0m\u001b[0mself\u001b[0m\u001b[0;34m.\u001b[0m\u001b[0m_f\u001b[0m\u001b[0;34m(\u001b[0m\u001b[0mt\u001b[0m\u001b[0;34m,\u001b[0m \u001b[0mstate\u001b[0m\u001b[0;34m)\u001b[0m\u001b[0;34m)\u001b[0m\u001b[0;34m\u001b[0m\u001b[0;34m\u001b[0m\u001b[0m\n\u001b[0m\u001b[1;32m     74\u001b[0m \u001b[0;34m\u001b[0m\u001b[0m\n\u001b[1;32m     75\u001b[0m \u001b[0;34m\u001b[0m\u001b[0m\n",
            "\u001b[0;32m/usr/local/lib/python3.11/dist-packages/qutip/solver/result.py\u001b[0m in \u001b[0;36m__call__\u001b[0;34m(self, t, state)\u001b[0m\n\u001b[1;32m     27\u001b[0m \u001b[0;34m\u001b[0m\u001b[0m\n\u001b[1;32m     28\u001b[0m     \u001b[0;32mdef\u001b[0m \u001b[0m__call__\u001b[0m\u001b[0;34m(\u001b[0m\u001b[0mself\u001b[0m\u001b[0;34m,\u001b[0m \u001b[0mt\u001b[0m\u001b[0;34m,\u001b[0m \u001b[0mstate\u001b[0m\u001b[0;34m)\u001b[0m\u001b[0;34m:\u001b[0m\u001b[0;34m\u001b[0m\u001b[0;34m\u001b[0m\u001b[0m\n\u001b[0;32m---> 29\u001b[0;31m         \u001b[0;32mreturn\u001b[0m \u001b[0mexpect\u001b[0m\u001b[0;34m(\u001b[0m\u001b[0mself\u001b[0m\u001b[0;34m.\u001b[0m\u001b[0mop\u001b[0m\u001b[0;34m,\u001b[0m \u001b[0mstate\u001b[0m\u001b[0;34m)\u001b[0m\u001b[0;34m\u001b[0m\u001b[0;34m\u001b[0m\u001b[0m\n\u001b[0m\u001b[1;32m     30\u001b[0m \u001b[0;34m\u001b[0m\u001b[0m\n\u001b[1;32m     31\u001b[0m \u001b[0;34m\u001b[0m\u001b[0m\n",
            "\u001b[0;32m/usr/local/lib/python3.11/dist-packages/qutip/core/expect.py\u001b[0m in \u001b[0;36mexpect\u001b[0;34m(oper, state)\u001b[0m\n\u001b[1;32m     60\u001b[0m     \"\"\"\n\u001b[1;32m     61\u001b[0m     \u001b[0;32mif\u001b[0m \u001b[0misinstance\u001b[0m\u001b[0;34m(\u001b[0m\u001b[0mstate\u001b[0m\u001b[0;34m,\u001b[0m \u001b[0mQobj\u001b[0m\u001b[0;34m)\u001b[0m \u001b[0;32mand\u001b[0m \u001b[0misinstance\u001b[0m\u001b[0;34m(\u001b[0m\u001b[0moper\u001b[0m\u001b[0;34m,\u001b[0m \u001b[0mQobj\u001b[0m\u001b[0;34m)\u001b[0m\u001b[0;34m:\u001b[0m\u001b[0;34m\u001b[0m\u001b[0;34m\u001b[0m\u001b[0m\n\u001b[0;32m---> 62\u001b[0;31m         \u001b[0;32mreturn\u001b[0m \u001b[0m_single_qobj_expect\u001b[0m\u001b[0;34m(\u001b[0m\u001b[0moper\u001b[0m\u001b[0;34m,\u001b[0m \u001b[0mstate\u001b[0m\u001b[0;34m)\u001b[0m\u001b[0;34m\u001b[0m\u001b[0;34m\u001b[0m\u001b[0m\n\u001b[0m\u001b[1;32m     63\u001b[0m \u001b[0;34m\u001b[0m\u001b[0m\n\u001b[1;32m     64\u001b[0m     \u001b[0;32melif\u001b[0m \u001b[0misinstance\u001b[0m\u001b[0;34m(\u001b[0m\u001b[0moper\u001b[0m\u001b[0;34m,\u001b[0m \u001b[0mSequence\u001b[0m\u001b[0;34m)\u001b[0m\u001b[0;34m:\u001b[0m\u001b[0;34m\u001b[0m\u001b[0;34m\u001b[0m\u001b[0m\n",
            "\u001b[0;32m/usr/local/lib/python3.11/dist-packages/qutip/core/expect.py\u001b[0m in \u001b[0;36m_single_qobj_expect\u001b[0;34m(oper, state)\u001b[0m\n\u001b[1;32m     86\u001b[0m         )\n\u001b[1;32m     87\u001b[0m         \u001b[0;32mraise\u001b[0m \u001b[0mValueError\u001b[0m\u001b[0;34m(\u001b[0m\u001b[0mmsg\u001b[0m\u001b[0;34m)\u001b[0m\u001b[0;34m\u001b[0m\u001b[0;34m\u001b[0m\u001b[0m\n\u001b[0;32m---> 88\u001b[0;31m     \u001b[0mout\u001b[0m \u001b[0;34m=\u001b[0m \u001b[0m_data\u001b[0m\u001b[0;34m.\u001b[0m\u001b[0mexpect\u001b[0m\u001b[0;34m(\u001b[0m\u001b[0moper\u001b[0m\u001b[0;34m.\u001b[0m\u001b[0mdata\u001b[0m\u001b[0;34m,\u001b[0m \u001b[0mstate\u001b[0m\u001b[0;34m.\u001b[0m\u001b[0mdata\u001b[0m\u001b[0;34m)\u001b[0m\u001b[0;34m\u001b[0m\u001b[0;34m\u001b[0m\u001b[0m\n\u001b[0m\u001b[1;32m     89\u001b[0m \u001b[0;34m\u001b[0m\u001b[0m\n\u001b[1;32m     90\u001b[0m     \u001b[0;31m# This ensures that expect can return something that is not a number such\u001b[0m\u001b[0;34m\u001b[0m\u001b[0;34m\u001b[0m\u001b[0m\n",
            "\u001b[0;31mKeyboardInterrupt\u001b[0m: "
          ]
        }
      ],
      "source": [
        "result = mesolve(H_driven_RWA, psi0, tau, c_ops = [], e_ops = [a.dag() * a, sigma_plus * sigma_minus])"
      ]
    },
    {
      "cell_type": "code",
      "execution_count": null,
      "metadata": {
        "id": "8GHZv0vPfmHV"
      },
      "outputs": [],
      "source": [
        "n_c = result.expect[0]\n",
        "n_a = result.expect[1]\n",
        "\n",
        "plt.figure()\n",
        "plt.plot(tau, n_c, label = 'Cavity')\n",
        "plt.plot(tau, n_a, label = 'Atom Excited State')\n",
        "plt.grid(True)\n",
        "plt.xlabel('Time (arb. units)')\n",
        "plt.ylabel('Fock state')\n",
        "plt.legend(loc='best')\n",
        "plt.show()"
      ]
    },
    {
      "cell_type": "code",
      "source": [
        "times = np.arange(0, 100, 1e-4)\n",
        "tau = wc * times"
      ],
      "metadata": {
        "id": "Ye5zrCfe_Lls"
      },
      "execution_count": 6,
      "outputs": []
    },
    {
      "cell_type": "code",
      "execution_count": 14,
      "metadata": {
        "id": "iQTHPpaSmF2l"
      },
      "outputs": [],
      "source": [
        "\n",
        "psi = tensor(fock(n_cavity, 0), spin_down)\n",
        "\n",
        "psi_den = psi * psi.dag()\n",
        "\n",
        "target_state = tensor(fock(n_cavity, 1), spin_down)\n",
        "\n",
        "target_den = target_state * target_state.dag()"
      ]
    },
    {
      "cell_type": "code",
      "execution_count": 8,
      "metadata": {
        "colab": {
          "base_uri": "https://localhost:8080/"
        },
        "id": "02xO_do21jLc",
        "outputId": "64e0f50f-181a-4dc6-ec1a-944e4179df4a"
      },
      "outputs": [
        {
          "output_type": "stream",
          "name": "stdout",
          "text": [
            "Collecting scikit-optimize\n",
            "  Downloading scikit_optimize-0.10.2-py2.py3-none-any.whl.metadata (9.7 kB)\n",
            "Requirement already satisfied: joblib>=0.11 in /usr/local/lib/python3.11/dist-packages (from scikit-optimize) (1.4.2)\n",
            "Collecting pyaml>=16.9 (from scikit-optimize)\n",
            "  Downloading pyaml-25.1.0-py3-none-any.whl.metadata (12 kB)\n",
            "Requirement already satisfied: numpy>=1.20.3 in /usr/local/lib/python3.11/dist-packages (from scikit-optimize) (1.26.4)\n",
            "Requirement already satisfied: scipy>=1.1.0 in /usr/local/lib/python3.11/dist-packages (from scikit-optimize) (1.14.1)\n",
            "Requirement already satisfied: scikit-learn>=1.0.0 in /usr/local/lib/python3.11/dist-packages (from scikit-optimize) (1.6.1)\n",
            "Requirement already satisfied: packaging>=21.3 in /usr/local/lib/python3.11/dist-packages (from scikit-optimize) (24.2)\n",
            "Requirement already satisfied: PyYAML in /usr/local/lib/python3.11/dist-packages (from pyaml>=16.9->scikit-optimize) (6.0.2)\n",
            "Requirement already satisfied: threadpoolctl>=3.1.0 in /usr/local/lib/python3.11/dist-packages (from scikit-learn>=1.0.0->scikit-optimize) (3.5.0)\n",
            "Downloading scikit_optimize-0.10.2-py2.py3-none-any.whl (107 kB)\n",
            "\u001b[2K   \u001b[90m━━━━━━━━━━━━━━━━━━━━━━━━━━━━━━━━━━━━━━━━\u001b[0m \u001b[32m107.8/107.8 kB\u001b[0m \u001b[31m2.3 MB/s\u001b[0m eta \u001b[36m0:00:00\u001b[0m\n",
            "\u001b[?25hDownloading pyaml-25.1.0-py3-none-any.whl (26 kB)\n",
            "Installing collected packages: pyaml, scikit-optimize\n",
            "Successfully installed pyaml-25.1.0 scikit-optimize-0.10.2\n"
          ]
        }
      ],
      "source": [
        "!pip install scikit-optimize\n",
        "\n",
        "from skopt import gp_minimize\n",
        "from skopt.space import Real\n",
        "from skopt.plots import plot_convergence\n",
        "from skopt.utils import use_named_args\n"
      ]
    },
    {
      "cell_type": "code",
      "execution_count": 9,
      "metadata": {
        "colab": {
          "base_uri": "https://localhost:8080/"
        },
        "id": "i1XvIDVGmMY6",
        "outputId": "b56ccd68-08c8-404d-d8d7-f2b03b7b0921"
      },
      "outputs": [
        {
          "output_type": "stream",
          "name": "stdout",
          "text": [
            "Iteration No: 1 started. Evaluating function at random point.\n"
          ]
        },
        {
          "output_type": "stream",
          "name": "stderr",
          "text": [
            "/usr/local/lib/python3.11/dist-packages/qutip/solver/options.py:16: FutureWarning: Dedicated options class are no longer needed, options should be passed as dict to solvers.\n",
            "  warnings.warn(\n"
          ]
        },
        {
          "output_type": "stream",
          "name": "stdout",
          "text": [
            "Iteration No: 1 ended. Evaluation done at random point.\n",
            "Time taken: 2.5262\n",
            "Function value obtained: -0.3222\n",
            "Current minimum: -0.3222\n",
            "Iteration No: 2 started. Evaluating function at random point.\n",
            "Iteration No: 2 ended. Evaluation done at random point.\n",
            "Time taken: 15.0467\n",
            "Function value obtained: -0.4602\n",
            "Current minimum: -0.4602\n",
            "Iteration No: 3 started. Evaluating function at random point.\n",
            "Iteration No: 3 ended. Evaluation done at random point.\n",
            "Time taken: 0.3203\n",
            "Function value obtained: -0.2364\n",
            "Current minimum: -0.4602\n",
            "Iteration No: 4 started. Evaluating function at random point.\n",
            "Iteration No: 4 ended. Evaluation done at random point.\n",
            "Time taken: 0.8575\n",
            "Function value obtained: -0.2582\n",
            "Current minimum: -0.4602\n",
            "Iteration No: 5 started. Evaluating function at random point.\n",
            "Iteration No: 5 ended. Evaluation done at random point.\n",
            "Time taken: 0.5243\n",
            "Function value obtained: -0.4299\n",
            "Current minimum: -0.4602\n",
            "Iteration No: 6 started. Evaluating function at random point.\n",
            "Iteration No: 6 ended. Evaluation done at random point.\n",
            "Time taken: 0.2909\n",
            "Function value obtained: -0.1810\n",
            "Current minimum: -0.4602\n",
            "Iteration No: 7 started. Evaluating function at random point.\n",
            "Iteration No: 7 ended. Evaluation done at random point.\n",
            "Time taken: 0.0127\n",
            "Function value obtained: -0.0010\n",
            "Current minimum: -0.4602\n",
            "Iteration No: 8 started. Evaluating function at random point.\n",
            "Iteration No: 8 ended. Evaluation done at random point.\n",
            "Time taken: 3.1774\n",
            "Function value obtained: -0.3779\n",
            "Current minimum: -0.4602\n",
            "Iteration No: 9 started. Evaluating function at random point.\n",
            "Iteration No: 9 ended. Evaluation done at random point.\n",
            "Time taken: 0.0321\n",
            "Function value obtained: -0.0101\n",
            "Current minimum: -0.4602\n",
            "Iteration No: 10 started. Evaluating function at random point.\n",
            "Iteration No: 10 ended. Evaluation done at random point.\n",
            "Time taken: 0.4046\n",
            "Function value obtained: -0.4126\n",
            "Current minimum: -0.4602\n",
            "Iteration No: 11 started. Searching for the next optimal point.\n",
            "Iteration No: 11 ended. Search finished for the next optimal point.\n",
            "Time taken: 0.1715\n",
            "Function value obtained: -0.4611\n",
            "Current minimum: -0.4611\n",
            "Iteration No: 12 started. Searching for the next optimal point.\n"
          ]
        },
        {
          "output_type": "stream",
          "name": "stderr",
          "text": [
            "/usr/local/lib/python3.11/dist-packages/qutip/solver/options.py:16: FutureWarning: Dedicated options class are no longer needed, options should be passed as dict to solvers.\n",
            "  warnings.warn(\n",
            "/usr/local/lib/python3.11/dist-packages/qutip/solver/options.py:16: FutureWarning: Dedicated options class are no longer needed, options should be passed as dict to solvers.\n",
            "  warnings.warn(\n"
          ]
        },
        {
          "output_type": "stream",
          "name": "stdout",
          "text": [
            "Iteration No: 12 ended. Search finished for the next optimal point.\n",
            "Time taken: 3.0934\n",
            "Function value obtained: -0.3775\n",
            "Current minimum: -0.4611\n",
            "Iteration No: 13 started. Searching for the next optimal point.\n"
          ]
        },
        {
          "output_type": "stream",
          "name": "stderr",
          "text": [
            "/usr/local/lib/python3.11/dist-packages/qutip/solver/options.py:16: FutureWarning: Dedicated options class are no longer needed, options should be passed as dict to solvers.\n",
            "  warnings.warn(\n"
          ]
        },
        {
          "output_type": "stream",
          "name": "stdout",
          "text": [
            "Iteration No: 13 ended. Search finished for the next optimal point.\n",
            "Time taken: 4.0566\n",
            "Function value obtained: -0.1548\n",
            "Current minimum: -0.4611\n",
            "Iteration No: 14 started. Searching for the next optimal point.\n"
          ]
        },
        {
          "output_type": "stream",
          "name": "stderr",
          "text": [
            "/usr/local/lib/python3.11/dist-packages/qutip/solver/options.py:16: FutureWarning: Dedicated options class are no longer needed, options should be passed as dict to solvers.\n",
            "  warnings.warn(\n"
          ]
        },
        {
          "output_type": "stream",
          "name": "stdout",
          "text": [
            "Iteration No: 14 ended. Search finished for the next optimal point.\n",
            "Time taken: 3.4409\n",
            "Function value obtained: -0.3141\n",
            "Current minimum: -0.4611\n",
            "Iteration No: 15 started. Searching for the next optimal point.\n"
          ]
        },
        {
          "output_type": "stream",
          "name": "stderr",
          "text": [
            "/usr/local/lib/python3.11/dist-packages/qutip/solver/options.py:16: FutureWarning: Dedicated options class are no longer needed, options should be passed as dict to solvers.\n",
            "  warnings.warn(\n"
          ]
        },
        {
          "output_type": "stream",
          "name": "stdout",
          "text": [
            "Iteration No: 15 ended. Search finished for the next optimal point.\n",
            "Time taken: 0.3594\n",
            "Function value obtained: -0.3589\n",
            "Current minimum: -0.4611\n",
            "Iteration No: 16 started. Searching for the next optimal point.\n"
          ]
        },
        {
          "output_type": "stream",
          "name": "stderr",
          "text": [
            "/usr/local/lib/python3.11/dist-packages/qutip/solver/options.py:16: FutureWarning: Dedicated options class are no longer needed, options should be passed as dict to solvers.\n",
            "  warnings.warn(\n"
          ]
        },
        {
          "output_type": "stream",
          "name": "stdout",
          "text": [
            "Iteration No: 16 ended. Search finished for the next optimal point.\n",
            "Time taken: 1.9508\n",
            "Function value obtained: -0.0238\n",
            "Current minimum: -0.4611\n",
            "Iteration No: 17 started. Searching for the next optimal point.\n"
          ]
        },
        {
          "output_type": "stream",
          "name": "stderr",
          "text": [
            "/usr/local/lib/python3.11/dist-packages/qutip/solver/options.py:16: FutureWarning: Dedicated options class are no longer needed, options should be passed as dict to solvers.\n",
            "  warnings.warn(\n"
          ]
        },
        {
          "output_type": "stream",
          "name": "stdout",
          "text": [
            "Iteration No: 17 ended. Search finished for the next optimal point.\n",
            "Time taken: 1.5496\n",
            "Function value obtained: -0.4439\n",
            "Current minimum: -0.4611\n",
            "Iteration No: 18 started. Searching for the next optimal point.\n"
          ]
        },
        {
          "output_type": "stream",
          "name": "stderr",
          "text": [
            "/usr/local/lib/python3.11/dist-packages/qutip/solver/options.py:16: FutureWarning: Dedicated options class are no longer needed, options should be passed as dict to solvers.\n",
            "  warnings.warn(\n"
          ]
        },
        {
          "output_type": "stream",
          "name": "stdout",
          "text": [
            "Iteration No: 18 ended. Search finished for the next optimal point.\n",
            "Time taken: 5.6623\n",
            "Function value obtained: -0.0717\n",
            "Current minimum: -0.4611\n",
            "Iteration No: 19 started. Searching for the next optimal point.\n"
          ]
        },
        {
          "output_type": "stream",
          "name": "stderr",
          "text": [
            "/usr/local/lib/python3.11/dist-packages/qutip/solver/options.py:16: FutureWarning: Dedicated options class are no longer needed, options should be passed as dict to solvers.\n",
            "  warnings.warn(\n"
          ]
        },
        {
          "output_type": "stream",
          "name": "stdout",
          "text": [
            "Iteration No: 19 ended. Search finished for the next optimal point.\n",
            "Time taken: 0.3176\n",
            "Function value obtained: -0.2647\n",
            "Current minimum: -0.4611\n",
            "Iteration No: 20 started. Searching for the next optimal point.\n"
          ]
        },
        {
          "output_type": "stream",
          "name": "stderr",
          "text": [
            "/usr/local/lib/python3.11/dist-packages/qutip/solver/options.py:16: FutureWarning: Dedicated options class are no longer needed, options should be passed as dict to solvers.\n",
            "  warnings.warn(\n"
          ]
        },
        {
          "output_type": "stream",
          "name": "stdout",
          "text": [
            "Iteration No: 20 ended. Search finished for the next optimal point.\n",
            "Time taken: 1.2286\n",
            "Function value obtained: -0.4167\n",
            "Current minimum: -0.4611\n",
            "Iteration No: 21 started. Searching for the next optimal point.\n"
          ]
        },
        {
          "output_type": "stream",
          "name": "stderr",
          "text": [
            "/usr/local/lib/python3.11/dist-packages/qutip/solver/options.py:16: FutureWarning: Dedicated options class are no longer needed, options should be passed as dict to solvers.\n",
            "  warnings.warn(\n"
          ]
        },
        {
          "output_type": "stream",
          "name": "stdout",
          "text": [
            "Iteration No: 21 ended. Search finished for the next optimal point.\n",
            "Time taken: 0.3434\n",
            "Function value obtained: -0.0000\n",
            "Current minimum: -0.4611\n",
            "Iteration No: 22 started. Searching for the next optimal point.\n"
          ]
        },
        {
          "output_type": "stream",
          "name": "stderr",
          "text": [
            "/usr/local/lib/python3.11/dist-packages/qutip/solver/options.py:16: FutureWarning: Dedicated options class are no longer needed, options should be passed as dict to solvers.\n",
            "  warnings.warn(\n"
          ]
        },
        {
          "output_type": "stream",
          "name": "stdout",
          "text": [
            "Iteration No: 22 ended. Search finished for the next optimal point.\n",
            "Time taken: 1.4484\n",
            "Function value obtained: -0.0926\n",
            "Current minimum: -0.4611\n",
            "Iteration No: 23 started. Searching for the next optimal point.\n"
          ]
        },
        {
          "output_type": "stream",
          "name": "stderr",
          "text": [
            "/usr/local/lib/python3.11/dist-packages/qutip/solver/options.py:16: FutureWarning: Dedicated options class are no longer needed, options should be passed as dict to solvers.\n",
            "  warnings.warn(\n"
          ]
        },
        {
          "output_type": "stream",
          "name": "stdout",
          "text": [
            "Iteration No: 23 ended. Search finished for the next optimal point.\n",
            "Time taken: 1.6675\n",
            "Function value obtained: -0.5434\n",
            "Current minimum: -0.5434\n",
            "Iteration No: 24 started. Searching for the next optimal point.\n"
          ]
        },
        {
          "output_type": "stream",
          "name": "stderr",
          "text": [
            "/usr/local/lib/python3.11/dist-packages/qutip/solver/options.py:16: FutureWarning: Dedicated options class are no longer needed, options should be passed as dict to solvers.\n",
            "  warnings.warn(\n"
          ]
        },
        {
          "output_type": "stream",
          "name": "stdout",
          "text": [
            "Iteration No: 24 ended. Search finished for the next optimal point.\n",
            "Time taken: 3.3242\n",
            "Function value obtained: -0.3884\n",
            "Current minimum: -0.5434\n",
            "Iteration No: 25 started. Searching for the next optimal point.\n"
          ]
        },
        {
          "output_type": "stream",
          "name": "stderr",
          "text": [
            "/usr/local/lib/python3.11/dist-packages/qutip/solver/options.py:16: FutureWarning: Dedicated options class are no longer needed, options should be passed as dict to solvers.\n",
            "  warnings.warn(\n"
          ]
        },
        {
          "output_type": "stream",
          "name": "stdout",
          "text": [
            "Iteration No: 25 ended. Search finished for the next optimal point.\n",
            "Time taken: 2.9615\n",
            "Function value obtained: -0.4946\n",
            "Current minimum: -0.5434\n",
            "Iteration No: 26 started. Searching for the next optimal point.\n"
          ]
        },
        {
          "output_type": "stream",
          "name": "stderr",
          "text": [
            "/usr/local/lib/python3.11/dist-packages/qutip/solver/options.py:16: FutureWarning: Dedicated options class are no longer needed, options should be passed as dict to solvers.\n",
            "  warnings.warn(\n"
          ]
        },
        {
          "output_type": "stream",
          "name": "stdout",
          "text": [
            "Iteration No: 26 ended. Search finished for the next optimal point.\n",
            "Time taken: 0.7135\n",
            "Function value obtained: -0.2269\n",
            "Current minimum: -0.5434\n",
            "Iteration No: 27 started. Searching for the next optimal point.\n"
          ]
        },
        {
          "output_type": "stream",
          "name": "stderr",
          "text": [
            "/usr/local/lib/python3.11/dist-packages/qutip/solver/options.py:16: FutureWarning: Dedicated options class are no longer needed, options should be passed as dict to solvers.\n",
            "  warnings.warn(\n"
          ]
        },
        {
          "output_type": "stream",
          "name": "stdout",
          "text": [
            "Iteration No: 27 ended. Search finished for the next optimal point.\n",
            "Time taken: 3.1412\n",
            "Function value obtained: -0.4146\n",
            "Current minimum: -0.5434\n",
            "Iteration No: 28 started. Searching for the next optimal point.\n"
          ]
        },
        {
          "output_type": "stream",
          "name": "stderr",
          "text": [
            "/usr/local/lib/python3.11/dist-packages/qutip/solver/options.py:16: FutureWarning: Dedicated options class are no longer needed, options should be passed as dict to solvers.\n",
            "  warnings.warn(\n"
          ]
        },
        {
          "output_type": "stream",
          "name": "stdout",
          "text": [
            "Iteration No: 28 ended. Search finished for the next optimal point.\n",
            "Time taken: 0.5590\n",
            "Function value obtained: -0.5276\n",
            "Current minimum: -0.5434\n",
            "Iteration No: 29 started. Searching for the next optimal point.\n"
          ]
        },
        {
          "output_type": "stream",
          "name": "stderr",
          "text": [
            "/usr/local/lib/python3.11/dist-packages/qutip/solver/options.py:16: FutureWarning: Dedicated options class are no longer needed, options should be passed as dict to solvers.\n",
            "  warnings.warn(\n"
          ]
        },
        {
          "output_type": "stream",
          "name": "stdout",
          "text": [
            "Iteration No: 29 ended. Search finished for the next optimal point.\n",
            "Time taken: 2.8363\n",
            "Function value obtained: -0.5551\n",
            "Current minimum: -0.5551\n",
            "Iteration No: 30 started. Searching for the next optimal point.\n"
          ]
        },
        {
          "output_type": "stream",
          "name": "stderr",
          "text": [
            "/usr/local/lib/python3.11/dist-packages/qutip/solver/options.py:16: FutureWarning: Dedicated options class are no longer needed, options should be passed as dict to solvers.\n",
            "  warnings.warn(\n"
          ]
        },
        {
          "output_type": "stream",
          "name": "stdout",
          "text": [
            "Iteration No: 30 ended. Search finished for the next optimal point.\n",
            "Time taken: 0.3133\n",
            "Function value obtained: -0.4757\n",
            "Current minimum: -0.5551\n",
            "Iteration No: 31 started. Searching for the next optimal point.\n"
          ]
        },
        {
          "output_type": "stream",
          "name": "stderr",
          "text": [
            "/usr/local/lib/python3.11/dist-packages/qutip/solver/options.py:16: FutureWarning: Dedicated options class are no longer needed, options should be passed as dict to solvers.\n",
            "  warnings.warn(\n"
          ]
        },
        {
          "output_type": "stream",
          "name": "stdout",
          "text": [
            "Iteration No: 31 ended. Search finished for the next optimal point.\n",
            "Time taken: 3.4379\n",
            "Function value obtained: -0.3953\n",
            "Current minimum: -0.5551\n",
            "Iteration No: 32 started. Searching for the next optimal point.\n"
          ]
        },
        {
          "output_type": "stream",
          "name": "stderr",
          "text": [
            "/usr/local/lib/python3.11/dist-packages/qutip/solver/options.py:16: FutureWarning: Dedicated options class are no longer needed, options should be passed as dict to solvers.\n",
            "  warnings.warn(\n"
          ]
        },
        {
          "output_type": "stream",
          "name": "stdout",
          "text": [
            "Iteration No: 32 ended. Search finished for the next optimal point.\n",
            "Time taken: 1.0194\n",
            "Function value obtained: -0.0968\n",
            "Current minimum: -0.5551\n",
            "Iteration No: 33 started. Searching for the next optimal point.\n"
          ]
        },
        {
          "output_type": "stream",
          "name": "stderr",
          "text": [
            "/usr/local/lib/python3.11/dist-packages/qutip/solver/options.py:16: FutureWarning: Dedicated options class are no longer needed, options should be passed as dict to solvers.\n",
            "  warnings.warn(\n"
          ]
        },
        {
          "output_type": "stream",
          "name": "stdout",
          "text": [
            "Iteration No: 33 ended. Search finished for the next optimal point.\n",
            "Time taken: 0.6199\n",
            "Function value obtained: -0.0768\n",
            "Current minimum: -0.5551\n",
            "Iteration No: 34 started. Searching for the next optimal point.\n"
          ]
        },
        {
          "output_type": "stream",
          "name": "stderr",
          "text": [
            "/usr/local/lib/python3.11/dist-packages/qutip/solver/options.py:16: FutureWarning: Dedicated options class are no longer needed, options should be passed as dict to solvers.\n",
            "  warnings.warn(\n"
          ]
        },
        {
          "output_type": "stream",
          "name": "stdout",
          "text": [
            "Iteration No: 34 ended. Search finished for the next optimal point.\n",
            "Time taken: 2.6363\n",
            "Function value obtained: -0.2082\n",
            "Current minimum: -0.5551\n",
            "Iteration No: 35 started. Searching for the next optimal point.\n"
          ]
        },
        {
          "output_type": "stream",
          "name": "stderr",
          "text": [
            "/usr/local/lib/python3.11/dist-packages/qutip/solver/options.py:16: FutureWarning: Dedicated options class are no longer needed, options should be passed as dict to solvers.\n",
            "  warnings.warn(\n"
          ]
        },
        {
          "output_type": "stream",
          "name": "stdout",
          "text": [
            "Iteration No: 35 ended. Search finished for the next optimal point.\n",
            "Time taken: 0.2883\n",
            "Function value obtained: -0.5540\n",
            "Current minimum: -0.5551\n",
            "Iteration No: 36 started. Searching for the next optimal point.\n"
          ]
        },
        {
          "output_type": "stream",
          "name": "stderr",
          "text": [
            "/usr/local/lib/python3.11/dist-packages/qutip/solver/options.py:16: FutureWarning: Dedicated options class are no longer needed, options should be passed as dict to solvers.\n",
            "  warnings.warn(\n"
          ]
        },
        {
          "output_type": "stream",
          "name": "stdout",
          "text": [
            "Iteration No: 36 ended. Search finished for the next optimal point.\n",
            "Time taken: 2.3170\n",
            "Function value obtained: -0.1802\n",
            "Current minimum: -0.5551\n",
            "Iteration No: 37 started. Searching for the next optimal point.\n"
          ]
        },
        {
          "output_type": "stream",
          "name": "stderr",
          "text": [
            "/usr/local/lib/python3.11/dist-packages/qutip/solver/options.py:16: FutureWarning: Dedicated options class are no longer needed, options should be passed as dict to solvers.\n",
            "  warnings.warn(\n"
          ]
        },
        {
          "output_type": "stream",
          "name": "stdout",
          "text": [
            "Iteration No: 37 ended. Search finished for the next optimal point.\n",
            "Time taken: 3.5208\n",
            "Function value obtained: -0.0270\n",
            "Current minimum: -0.5551\n",
            "Iteration No: 38 started. Searching for the next optimal point.\n"
          ]
        },
        {
          "output_type": "stream",
          "name": "stderr",
          "text": [
            "/usr/local/lib/python3.11/dist-packages/qutip/solver/options.py:16: FutureWarning: Dedicated options class are no longer needed, options should be passed as dict to solvers.\n",
            "  warnings.warn(\n"
          ]
        },
        {
          "output_type": "stream",
          "name": "stdout",
          "text": [
            "Iteration No: 38 ended. Search finished for the next optimal point.\n",
            "Time taken: 0.4381\n",
            "Function value obtained: -0.2465\n",
            "Current minimum: -0.5551\n",
            "Iteration No: 39 started. Searching for the next optimal point.\n"
          ]
        },
        {
          "output_type": "stream",
          "name": "stderr",
          "text": [
            "/usr/local/lib/python3.11/dist-packages/qutip/solver/options.py:16: FutureWarning: Dedicated options class are no longer needed, options should be passed as dict to solvers.\n",
            "  warnings.warn(\n"
          ]
        },
        {
          "output_type": "stream",
          "name": "stdout",
          "text": [
            "Iteration No: 39 ended. Search finished for the next optimal point.\n",
            "Time taken: 3.4416\n",
            "Function value obtained: -0.4459\n",
            "Current minimum: -0.5551\n",
            "Iteration No: 40 started. Searching for the next optimal point.\n"
          ]
        },
        {
          "output_type": "stream",
          "name": "stderr",
          "text": [
            "/usr/local/lib/python3.11/dist-packages/qutip/solver/options.py:16: FutureWarning: Dedicated options class are no longer needed, options should be passed as dict to solvers.\n",
            "  warnings.warn(\n"
          ]
        },
        {
          "output_type": "stream",
          "name": "stdout",
          "text": [
            "Iteration No: 40 ended. Search finished for the next optimal point.\n",
            "Time taken: 2.3404\n",
            "Function value obtained: -0.3874\n",
            "Current minimum: -0.5551\n",
            "Iteration No: 41 started. Searching for the next optimal point.\n"
          ]
        },
        {
          "output_type": "stream",
          "name": "stderr",
          "text": [
            "/usr/local/lib/python3.11/dist-packages/qutip/solver/options.py:16: FutureWarning: Dedicated options class are no longer needed, options should be passed as dict to solvers.\n",
            "  warnings.warn(\n"
          ]
        },
        {
          "output_type": "stream",
          "name": "stdout",
          "text": [
            "Iteration No: 41 ended. Search finished for the next optimal point.\n",
            "Time taken: 0.2731\n",
            "Function value obtained: -0.2823\n",
            "Current minimum: -0.5551\n",
            "Iteration No: 42 started. Searching for the next optimal point.\n"
          ]
        },
        {
          "output_type": "stream",
          "name": "stderr",
          "text": [
            "/usr/local/lib/python3.11/dist-packages/qutip/solver/options.py:16: FutureWarning: Dedicated options class are no longer needed, options should be passed as dict to solvers.\n",
            "  warnings.warn(\n"
          ]
        },
        {
          "output_type": "stream",
          "name": "stdout",
          "text": [
            "Iteration No: 42 ended. Search finished for the next optimal point.\n",
            "Time taken: 2.3960\n",
            "Function value obtained: -0.2584\n",
            "Current minimum: -0.5551\n",
            "Iteration No: 43 started. Searching for the next optimal point.\n"
          ]
        },
        {
          "output_type": "stream",
          "name": "stderr",
          "text": [
            "/usr/local/lib/python3.11/dist-packages/qutip/solver/options.py:16: FutureWarning: Dedicated options class are no longer needed, options should be passed as dict to solvers.\n",
            "  warnings.warn(\n"
          ]
        },
        {
          "output_type": "stream",
          "name": "stdout",
          "text": [
            "Iteration No: 43 ended. Search finished for the next optimal point.\n",
            "Time taken: 0.2678\n",
            "Function value obtained: -0.0000\n",
            "Current minimum: -0.5551\n",
            "Iteration No: 44 started. Searching for the next optimal point.\n"
          ]
        },
        {
          "output_type": "stream",
          "name": "stderr",
          "text": [
            "/usr/local/lib/python3.11/dist-packages/qutip/solver/options.py:16: FutureWarning: Dedicated options class are no longer needed, options should be passed as dict to solvers.\n",
            "  warnings.warn(\n"
          ]
        },
        {
          "output_type": "stream",
          "name": "stdout",
          "text": [
            "Iteration No: 44 ended. Search finished for the next optimal point.\n",
            "Time taken: 0.3336\n",
            "Function value obtained: -0.0627\n",
            "Current minimum: -0.5551\n",
            "Iteration No: 45 started. Searching for the next optimal point.\n"
          ]
        },
        {
          "output_type": "stream",
          "name": "stderr",
          "text": [
            "/usr/local/lib/python3.11/dist-packages/qutip/solver/options.py:16: FutureWarning: Dedicated options class are no longer needed, options should be passed as dict to solvers.\n",
            "  warnings.warn(\n"
          ]
        },
        {
          "output_type": "stream",
          "name": "stdout",
          "text": [
            "Iteration No: 45 ended. Search finished for the next optimal point.\n",
            "Time taken: 5.6239\n",
            "Function value obtained: -0.1699\n",
            "Current minimum: -0.5551\n",
            "Iteration No: 46 started. Searching for the next optimal point.\n"
          ]
        },
        {
          "output_type": "stream",
          "name": "stderr",
          "text": [
            "/usr/local/lib/python3.11/dist-packages/qutip/solver/options.py:16: FutureWarning: Dedicated options class are no longer needed, options should be passed as dict to solvers.\n",
            "  warnings.warn(\n"
          ]
        },
        {
          "output_type": "stream",
          "name": "stdout",
          "text": [
            "Iteration No: 46 ended. Search finished for the next optimal point.\n",
            "Time taken: 0.5021\n",
            "Function value obtained: -0.2566\n",
            "Current minimum: -0.5551\n",
            "Iteration No: 47 started. Searching for the next optimal point.\n"
          ]
        },
        {
          "output_type": "stream",
          "name": "stderr",
          "text": [
            "/usr/local/lib/python3.11/dist-packages/qutip/solver/options.py:16: FutureWarning: Dedicated options class are no longer needed, options should be passed as dict to solvers.\n",
            "  warnings.warn(\n"
          ]
        },
        {
          "output_type": "stream",
          "name": "stdout",
          "text": [
            "Iteration No: 47 ended. Search finished for the next optimal point.\n",
            "Time taken: 2.5027\n",
            "Function value obtained: -0.0233\n",
            "Current minimum: -0.5551\n",
            "Iteration No: 48 started. Searching for the next optimal point.\n"
          ]
        },
        {
          "output_type": "stream",
          "name": "stderr",
          "text": [
            "/usr/local/lib/python3.11/dist-packages/qutip/solver/options.py:16: FutureWarning: Dedicated options class are no longer needed, options should be passed as dict to solvers.\n",
            "  warnings.warn(\n"
          ]
        },
        {
          "output_type": "stream",
          "name": "stdout",
          "text": [
            "Iteration No: 48 ended. Search finished for the next optimal point.\n",
            "Time taken: 1.4777\n",
            "Function value obtained: -0.3248\n",
            "Current minimum: -0.5551\n",
            "Iteration No: 49 started. Searching for the next optimal point.\n"
          ]
        },
        {
          "output_type": "stream",
          "name": "stderr",
          "text": [
            "/usr/local/lib/python3.11/dist-packages/qutip/solver/options.py:16: FutureWarning: Dedicated options class are no longer needed, options should be passed as dict to solvers.\n",
            "  warnings.warn(\n"
          ]
        },
        {
          "output_type": "stream",
          "name": "stdout",
          "text": [
            "Iteration No: 49 ended. Search finished for the next optimal point.\n",
            "Time taken: 2.6337\n",
            "Function value obtained: -0.5809\n",
            "Current minimum: -0.5809\n",
            "Iteration No: 50 started. Searching for the next optimal point.\n"
          ]
        },
        {
          "output_type": "stream",
          "name": "stderr",
          "text": [
            "/usr/local/lib/python3.11/dist-packages/qutip/solver/options.py:16: FutureWarning: Dedicated options class are no longer needed, options should be passed as dict to solvers.\n",
            "  warnings.warn(\n"
          ]
        },
        {
          "output_type": "stream",
          "name": "stdout",
          "text": [
            "Iteration No: 50 ended. Search finished for the next optimal point.\n",
            "Time taken: 2.4834\n",
            "Function value obtained: -0.4950\n",
            "Current minimum: -0.5809\n",
            "Iteration No: 51 started. Searching for the next optimal point.\n"
          ]
        },
        {
          "output_type": "stream",
          "name": "stderr",
          "text": [
            "/usr/local/lib/python3.11/dist-packages/qutip/solver/options.py:16: FutureWarning: Dedicated options class are no longer needed, options should be passed as dict to solvers.\n",
            "  warnings.warn(\n"
          ]
        },
        {
          "output_type": "stream",
          "name": "stdout",
          "text": [
            "Iteration No: 51 ended. Search finished for the next optimal point.\n",
            "Time taken: 3.8754\n",
            "Function value obtained: -0.5175\n",
            "Current minimum: -0.5809\n",
            "Iteration No: 52 started. Searching for the next optimal point.\n"
          ]
        },
        {
          "output_type": "stream",
          "name": "stderr",
          "text": [
            "/usr/local/lib/python3.11/dist-packages/qutip/solver/options.py:16: FutureWarning: Dedicated options class are no longer needed, options should be passed as dict to solvers.\n",
            "  warnings.warn(\n"
          ]
        },
        {
          "output_type": "stream",
          "name": "stdout",
          "text": [
            "Iteration No: 52 ended. Search finished for the next optimal point.\n",
            "Time taken: 2.6659\n",
            "Function value obtained: -0.4879\n",
            "Current minimum: -0.5809\n",
            "Iteration No: 53 started. Searching for the next optimal point.\n"
          ]
        },
        {
          "output_type": "stream",
          "name": "stderr",
          "text": [
            "/usr/local/lib/python3.11/dist-packages/qutip/solver/options.py:16: FutureWarning: Dedicated options class are no longer needed, options should be passed as dict to solvers.\n",
            "  warnings.warn(\n"
          ]
        },
        {
          "output_type": "stream",
          "name": "stdout",
          "text": [
            "Iteration No: 53 ended. Search finished for the next optimal point.\n",
            "Time taken: 2.6784\n",
            "Function value obtained: -0.5139\n",
            "Current minimum: -0.5809\n",
            "Iteration No: 54 started. Searching for the next optimal point.\n"
          ]
        },
        {
          "output_type": "stream",
          "name": "stderr",
          "text": [
            "/usr/local/lib/python3.11/dist-packages/qutip/solver/options.py:16: FutureWarning: Dedicated options class are no longer needed, options should be passed as dict to solvers.\n",
            "  warnings.warn(\n"
          ]
        },
        {
          "output_type": "stream",
          "name": "stdout",
          "text": [
            "Iteration No: 54 ended. Search finished for the next optimal point.\n",
            "Time taken: 2.6873\n",
            "Function value obtained: -0.2262\n",
            "Current minimum: -0.5809\n",
            "Iteration No: 55 started. Searching for the next optimal point.\n"
          ]
        },
        {
          "output_type": "stream",
          "name": "stderr",
          "text": [
            "/usr/local/lib/python3.11/dist-packages/qutip/solver/options.py:16: FutureWarning: Dedicated options class are no longer needed, options should be passed as dict to solvers.\n",
            "  warnings.warn(\n"
          ]
        },
        {
          "output_type": "stream",
          "name": "stdout",
          "text": [
            "Iteration No: 55 ended. Search finished for the next optimal point.\n",
            "Time taken: 3.3163\n",
            "Function value obtained: -0.4250\n",
            "Current minimum: -0.5809\n",
            "Iteration No: 56 started. Searching for the next optimal point.\n"
          ]
        },
        {
          "output_type": "stream",
          "name": "stderr",
          "text": [
            "/usr/local/lib/python3.11/dist-packages/qutip/solver/options.py:16: FutureWarning: Dedicated options class are no longer needed, options should be passed as dict to solvers.\n",
            "  warnings.warn(\n"
          ]
        },
        {
          "output_type": "stream",
          "name": "stdout",
          "text": [
            "Iteration No: 56 ended. Search finished for the next optimal point.\n",
            "Time taken: 2.8676\n",
            "Function value obtained: -0.4075\n",
            "Current minimum: -0.5809\n",
            "Iteration No: 57 started. Searching for the next optimal point.\n"
          ]
        },
        {
          "output_type": "stream",
          "name": "stderr",
          "text": [
            "/usr/local/lib/python3.11/dist-packages/qutip/solver/options.py:16: FutureWarning: Dedicated options class are no longer needed, options should be passed as dict to solvers.\n",
            "  warnings.warn(\n"
          ]
        },
        {
          "output_type": "stream",
          "name": "stdout",
          "text": [
            "Iteration No: 57 ended. Search finished for the next optimal point.\n",
            "Time taken: 1.9571\n",
            "Function value obtained: -0.5720\n",
            "Current minimum: -0.5809\n",
            "Iteration No: 58 started. Searching for the next optimal point.\n"
          ]
        },
        {
          "output_type": "stream",
          "name": "stderr",
          "text": [
            "/usr/local/lib/python3.11/dist-packages/qutip/solver/options.py:16: FutureWarning: Dedicated options class are no longer needed, options should be passed as dict to solvers.\n",
            "  warnings.warn(\n"
          ]
        },
        {
          "output_type": "stream",
          "name": "stdout",
          "text": [
            "Iteration No: 58 ended. Search finished for the next optimal point.\n",
            "Time taken: 2.0606\n",
            "Function value obtained: -0.1701\n",
            "Current minimum: -0.5809\n",
            "Iteration No: 59 started. Searching for the next optimal point.\n"
          ]
        },
        {
          "output_type": "stream",
          "name": "stderr",
          "text": [
            "/usr/local/lib/python3.11/dist-packages/qutip/solver/options.py:16: FutureWarning: Dedicated options class are no longer needed, options should be passed as dict to solvers.\n",
            "  warnings.warn(\n"
          ]
        },
        {
          "output_type": "stream",
          "name": "stdout",
          "text": [
            "Iteration No: 59 ended. Search finished for the next optimal point.\n",
            "Time taken: 0.3042\n",
            "Function value obtained: -0.6031\n",
            "Current minimum: -0.6031\n",
            "Iteration No: 60 started. Searching for the next optimal point.\n"
          ]
        },
        {
          "output_type": "stream",
          "name": "stderr",
          "text": [
            "/usr/local/lib/python3.11/dist-packages/qutip/solver/options.py:16: FutureWarning: Dedicated options class are no longer needed, options should be passed as dict to solvers.\n",
            "  warnings.warn(\n"
          ]
        },
        {
          "output_type": "stream",
          "name": "stdout",
          "text": [
            "Iteration No: 60 ended. Search finished for the next optimal point.\n",
            "Time taken: 0.3051\n",
            "Function value obtained: -0.5028\n",
            "Current minimum: -0.6031\n",
            "Iteration No: 61 started. Searching for the next optimal point.\n"
          ]
        },
        {
          "output_type": "stream",
          "name": "stderr",
          "text": [
            "/usr/local/lib/python3.11/dist-packages/qutip/solver/options.py:16: FutureWarning: Dedicated options class are no longer needed, options should be passed as dict to solvers.\n",
            "  warnings.warn(\n"
          ]
        },
        {
          "output_type": "stream",
          "name": "stdout",
          "text": [
            "Iteration No: 61 ended. Search finished for the next optimal point.\n",
            "Time taken: 0.2817\n",
            "Function value obtained: -0.0001\n",
            "Current minimum: -0.6031\n",
            "Iteration No: 62 started. Searching for the next optimal point.\n"
          ]
        },
        {
          "output_type": "stream",
          "name": "stderr",
          "text": [
            "/usr/local/lib/python3.11/dist-packages/qutip/solver/options.py:16: FutureWarning: Dedicated options class are no longer needed, options should be passed as dict to solvers.\n",
            "  warnings.warn(\n"
          ]
        },
        {
          "output_type": "stream",
          "name": "stdout",
          "text": [
            "Iteration No: 62 ended. Search finished for the next optimal point.\n",
            "Time taken: 6.6093\n",
            "Function value obtained: -0.1078\n",
            "Current minimum: -0.6031\n",
            "Iteration No: 63 started. Searching for the next optimal point.\n"
          ]
        },
        {
          "output_type": "stream",
          "name": "stderr",
          "text": [
            "/usr/local/lib/python3.11/dist-packages/qutip/solver/options.py:16: FutureWarning: Dedicated options class are no longer needed, options should be passed as dict to solvers.\n",
            "  warnings.warn(\n"
          ]
        },
        {
          "output_type": "stream",
          "name": "stdout",
          "text": [
            "Iteration No: 63 ended. Search finished for the next optimal point.\n",
            "Time taken: 0.3341\n",
            "Function value obtained: -0.5191\n",
            "Current minimum: -0.6031\n",
            "Iteration No: 64 started. Searching for the next optimal point.\n"
          ]
        },
        {
          "output_type": "stream",
          "name": "stderr",
          "text": [
            "/usr/local/lib/python3.11/dist-packages/qutip/solver/options.py:16: FutureWarning: Dedicated options class are no longer needed, options should be passed as dict to solvers.\n",
            "  warnings.warn(\n"
          ]
        },
        {
          "output_type": "stream",
          "name": "stdout",
          "text": [
            "Iteration No: 64 ended. Search finished for the next optimal point.\n",
            "Time taken: 0.4650\n",
            "Function value obtained: -0.0931\n",
            "Current minimum: -0.6031\n",
            "Iteration No: 65 started. Searching for the next optimal point.\n"
          ]
        },
        {
          "output_type": "stream",
          "name": "stderr",
          "text": [
            "/usr/local/lib/python3.11/dist-packages/qutip/solver/options.py:16: FutureWarning: Dedicated options class are no longer needed, options should be passed as dict to solvers.\n",
            "  warnings.warn(\n"
          ]
        },
        {
          "output_type": "stream",
          "name": "stdout",
          "text": [
            "Iteration No: 65 ended. Search finished for the next optimal point.\n",
            "Time taken: 4.3348\n",
            "Function value obtained: -0.2399\n",
            "Current minimum: -0.6031\n",
            "Iteration No: 66 started. Searching for the next optimal point.\n"
          ]
        },
        {
          "output_type": "stream",
          "name": "stderr",
          "text": [
            "/usr/local/lib/python3.11/dist-packages/qutip/solver/options.py:16: FutureWarning: Dedicated options class are no longer needed, options should be passed as dict to solvers.\n",
            "  warnings.warn(\n"
          ]
        },
        {
          "output_type": "stream",
          "name": "stdout",
          "text": [
            "Iteration No: 66 ended. Search finished for the next optimal point.\n",
            "Time taken: 0.3598\n",
            "Function value obtained: -0.5936\n",
            "Current minimum: -0.6031\n",
            "Iteration No: 67 started. Searching for the next optimal point.\n"
          ]
        },
        {
          "output_type": "stream",
          "name": "stderr",
          "text": [
            "/usr/local/lib/python3.11/dist-packages/qutip/solver/options.py:16: FutureWarning: Dedicated options class are no longer needed, options should be passed as dict to solvers.\n",
            "  warnings.warn(\n"
          ]
        },
        {
          "output_type": "stream",
          "name": "stdout",
          "text": [
            "Iteration No: 67 ended. Search finished for the next optimal point.\n",
            "Time taken: 0.3344\n",
            "Function value obtained: -0.0226\n",
            "Current minimum: -0.6031\n",
            "Iteration No: 68 started. Searching for the next optimal point.\n"
          ]
        },
        {
          "output_type": "stream",
          "name": "stderr",
          "text": [
            "/usr/local/lib/python3.11/dist-packages/qutip/solver/options.py:16: FutureWarning: Dedicated options class are no longer needed, options should be passed as dict to solvers.\n",
            "  warnings.warn(\n"
          ]
        },
        {
          "output_type": "stream",
          "name": "stdout",
          "text": [
            "Iteration No: 68 ended. Search finished for the next optimal point.\n",
            "Time taken: 1.9950\n",
            "Function value obtained: -0.5185\n",
            "Current minimum: -0.6031\n",
            "Iteration No: 69 started. Searching for the next optimal point.\n"
          ]
        },
        {
          "output_type": "stream",
          "name": "stderr",
          "text": [
            "/usr/local/lib/python3.11/dist-packages/qutip/solver/options.py:16: FutureWarning: Dedicated options class are no longer needed, options should be passed as dict to solvers.\n",
            "  warnings.warn(\n"
          ]
        },
        {
          "output_type": "stream",
          "name": "stdout",
          "text": [
            "Iteration No: 69 ended. Search finished for the next optimal point.\n",
            "Time taken: 3.5783\n",
            "Function value obtained: -0.5140\n",
            "Current minimum: -0.6031\n",
            "Iteration No: 70 started. Searching for the next optimal point.\n"
          ]
        },
        {
          "output_type": "stream",
          "name": "stderr",
          "text": [
            "/usr/local/lib/python3.11/dist-packages/qutip/solver/options.py:16: FutureWarning: Dedicated options class are no longer needed, options should be passed as dict to solvers.\n",
            "  warnings.warn(\n"
          ]
        },
        {
          "output_type": "stream",
          "name": "stdout",
          "text": [
            "Iteration No: 70 ended. Search finished for the next optimal point.\n",
            "Time taken: 2.0208\n",
            "Function value obtained: -0.1818\n",
            "Current minimum: -0.6031\n",
            "Iteration No: 71 started. Searching for the next optimal point.\n"
          ]
        },
        {
          "output_type": "stream",
          "name": "stderr",
          "text": [
            "/usr/local/lib/python3.11/dist-packages/qutip/solver/options.py:16: FutureWarning: Dedicated options class are no longer needed, options should be passed as dict to solvers.\n",
            "  warnings.warn(\n"
          ]
        },
        {
          "output_type": "stream",
          "name": "stdout",
          "text": [
            "Iteration No: 71 ended. Search finished for the next optimal point.\n",
            "Time taken: 2.8444\n",
            "Function value obtained: -0.5554\n",
            "Current minimum: -0.6031\n",
            "Iteration No: 72 started. Searching for the next optimal point.\n"
          ]
        },
        {
          "output_type": "stream",
          "name": "stderr",
          "text": [
            "/usr/local/lib/python3.11/dist-packages/qutip/solver/options.py:16: FutureWarning: Dedicated options class are no longer needed, options should be passed as dict to solvers.\n",
            "  warnings.warn(\n"
          ]
        },
        {
          "output_type": "stream",
          "name": "stdout",
          "text": [
            "Iteration No: 72 ended. Search finished for the next optimal point.\n",
            "Time taken: 2.9278\n",
            "Function value obtained: -0.3892\n",
            "Current minimum: -0.6031\n",
            "Iteration No: 73 started. Searching for the next optimal point.\n"
          ]
        },
        {
          "output_type": "stream",
          "name": "stderr",
          "text": [
            "/usr/local/lib/python3.11/dist-packages/qutip/solver/options.py:16: FutureWarning: Dedicated options class are no longer needed, options should be passed as dict to solvers.\n",
            "  warnings.warn(\n"
          ]
        },
        {
          "output_type": "stream",
          "name": "stdout",
          "text": [
            "Iteration No: 73 ended. Search finished for the next optimal point.\n",
            "Time taken: 0.3674\n",
            "Function value obtained: -0.1419\n",
            "Current minimum: -0.6031\n",
            "Iteration No: 74 started. Searching for the next optimal point.\n"
          ]
        },
        {
          "output_type": "stream",
          "name": "stderr",
          "text": [
            "/usr/local/lib/python3.11/dist-packages/qutip/solver/options.py:16: FutureWarning: Dedicated options class are no longer needed, options should be passed as dict to solvers.\n",
            "  warnings.warn(\n"
          ]
        },
        {
          "output_type": "stream",
          "name": "stdout",
          "text": [
            "Iteration No: 74 ended. Search finished for the next optimal point.\n",
            "Time taken: 4.7364\n",
            "Function value obtained: -0.4692\n",
            "Current minimum: -0.6031\n",
            "Iteration No: 75 started. Searching for the next optimal point.\n"
          ]
        },
        {
          "output_type": "stream",
          "name": "stderr",
          "text": [
            "/usr/local/lib/python3.11/dist-packages/qutip/solver/options.py:16: FutureWarning: Dedicated options class are no longer needed, options should be passed as dict to solvers.\n",
            "  warnings.warn(\n"
          ]
        },
        {
          "output_type": "stream",
          "name": "stdout",
          "text": [
            "Iteration No: 75 ended. Search finished for the next optimal point.\n",
            "Time taken: 3.1656\n",
            "Function value obtained: -0.1906\n",
            "Current minimum: -0.6031\n",
            "Iteration No: 76 started. Searching for the next optimal point.\n"
          ]
        },
        {
          "output_type": "stream",
          "name": "stderr",
          "text": [
            "/usr/local/lib/python3.11/dist-packages/qutip/solver/options.py:16: FutureWarning: Dedicated options class are no longer needed, options should be passed as dict to solvers.\n",
            "  warnings.warn(\n"
          ]
        },
        {
          "output_type": "stream",
          "name": "stdout",
          "text": [
            "Iteration No: 76 ended. Search finished for the next optimal point.\n",
            "Time taken: 3.9575\n",
            "Function value obtained: -0.1180\n",
            "Current minimum: -0.6031\n",
            "Iteration No: 77 started. Searching for the next optimal point.\n"
          ]
        },
        {
          "output_type": "stream",
          "name": "stderr",
          "text": [
            "/usr/local/lib/python3.11/dist-packages/qutip/solver/options.py:16: FutureWarning: Dedicated options class are no longer needed, options should be passed as dict to solvers.\n",
            "  warnings.warn(\n"
          ]
        },
        {
          "output_type": "stream",
          "name": "stdout",
          "text": [
            "Iteration No: 77 ended. Search finished for the next optimal point.\n",
            "Time taken: 2.3199\n",
            "Function value obtained: -0.1817\n",
            "Current minimum: -0.6031\n",
            "Iteration No: 78 started. Searching for the next optimal point.\n"
          ]
        },
        {
          "output_type": "stream",
          "name": "stderr",
          "text": [
            "/usr/local/lib/python3.11/dist-packages/qutip/solver/options.py:16: FutureWarning: Dedicated options class are no longer needed, options should be passed as dict to solvers.\n",
            "  warnings.warn(\n"
          ]
        },
        {
          "output_type": "stream",
          "name": "stdout",
          "text": [
            "Iteration No: 78 ended. Search finished for the next optimal point.\n",
            "Time taken: 5.9092\n",
            "Function value obtained: -0.0943\n",
            "Current minimum: -0.6031\n",
            "Iteration No: 79 started. Searching for the next optimal point.\n"
          ]
        },
        {
          "output_type": "stream",
          "name": "stderr",
          "text": [
            "/usr/local/lib/python3.11/dist-packages/qutip/solver/options.py:16: FutureWarning: Dedicated options class are no longer needed, options should be passed as dict to solvers.\n",
            "  warnings.warn(\n"
          ]
        },
        {
          "output_type": "stream",
          "name": "stdout",
          "text": [
            "Iteration No: 79 ended. Search finished for the next optimal point.\n",
            "Time taken: 0.4426\n",
            "Function value obtained: -0.2076\n",
            "Current minimum: -0.6031\n",
            "Iteration No: 80 started. Searching for the next optimal point.\n"
          ]
        },
        {
          "output_type": "stream",
          "name": "stderr",
          "text": [
            "/usr/local/lib/python3.11/dist-packages/qutip/solver/options.py:16: FutureWarning: Dedicated options class are no longer needed, options should be passed as dict to solvers.\n",
            "  warnings.warn(\n"
          ]
        },
        {
          "output_type": "stream",
          "name": "stdout",
          "text": [
            "Iteration No: 80 ended. Search finished for the next optimal point.\n",
            "Time taken: 0.3885\n",
            "Function value obtained: -0.0011\n",
            "Current minimum: -0.6031\n",
            "Iteration No: 81 started. Searching for the next optimal point.\n"
          ]
        },
        {
          "output_type": "stream",
          "name": "stderr",
          "text": [
            "/usr/local/lib/python3.11/dist-packages/qutip/solver/options.py:16: FutureWarning: Dedicated options class are no longer needed, options should be passed as dict to solvers.\n",
            "  warnings.warn(\n"
          ]
        },
        {
          "output_type": "stream",
          "name": "stdout",
          "text": [
            "Iteration No: 81 ended. Search finished for the next optimal point.\n",
            "Time taken: 2.4410\n",
            "Function value obtained: -0.2134\n",
            "Current minimum: -0.6031\n",
            "Iteration No: 82 started. Searching for the next optimal point.\n"
          ]
        },
        {
          "output_type": "stream",
          "name": "stderr",
          "text": [
            "/usr/local/lib/python3.11/dist-packages/qutip/solver/options.py:16: FutureWarning: Dedicated options class are no longer needed, options should be passed as dict to solvers.\n",
            "  warnings.warn(\n"
          ]
        },
        {
          "output_type": "stream",
          "name": "stdout",
          "text": [
            "Iteration No: 82 ended. Search finished for the next optimal point.\n",
            "Time taken: 0.4239\n",
            "Function value obtained: -0.1695\n",
            "Current minimum: -0.6031\n",
            "Iteration No: 83 started. Searching for the next optimal point.\n"
          ]
        },
        {
          "output_type": "stream",
          "name": "stderr",
          "text": [
            "/usr/local/lib/python3.11/dist-packages/qutip/solver/options.py:16: FutureWarning: Dedicated options class are no longer needed, options should be passed as dict to solvers.\n",
            "  warnings.warn(\n"
          ]
        },
        {
          "output_type": "stream",
          "name": "stdout",
          "text": [
            "Iteration No: 83 ended. Search finished for the next optimal point.\n",
            "Time taken: 4.5748\n",
            "Function value obtained: -0.4804\n",
            "Current minimum: -0.6031\n",
            "Iteration No: 84 started. Searching for the next optimal point.\n"
          ]
        },
        {
          "output_type": "stream",
          "name": "stderr",
          "text": [
            "/usr/local/lib/python3.11/dist-packages/qutip/solver/options.py:16: FutureWarning: Dedicated options class are no longer needed, options should be passed as dict to solvers.\n",
            "  warnings.warn(\n"
          ]
        },
        {
          "output_type": "stream",
          "name": "stdout",
          "text": [
            "Iteration No: 84 ended. Search finished for the next optimal point.\n",
            "Time taken: 3.1032\n",
            "Function value obtained: -0.2622\n",
            "Current minimum: -0.6031\n",
            "Iteration No: 85 started. Searching for the next optimal point.\n"
          ]
        },
        {
          "output_type": "stream",
          "name": "stderr",
          "text": [
            "/usr/local/lib/python3.11/dist-packages/qutip/solver/options.py:16: FutureWarning: Dedicated options class are no longer needed, options should be passed as dict to solvers.\n",
            "  warnings.warn(\n"
          ]
        },
        {
          "output_type": "stream",
          "name": "stdout",
          "text": [
            "Iteration No: 85 ended. Search finished for the next optimal point.\n",
            "Time taken: 1.9446\n",
            "Function value obtained: -0.2007\n",
            "Current minimum: -0.6031\n",
            "Iteration No: 86 started. Searching for the next optimal point.\n"
          ]
        },
        {
          "output_type": "stream",
          "name": "stderr",
          "text": [
            "/usr/local/lib/python3.11/dist-packages/qutip/solver/options.py:16: FutureWarning: Dedicated options class are no longer needed, options should be passed as dict to solvers.\n",
            "  warnings.warn(\n"
          ]
        },
        {
          "output_type": "stream",
          "name": "stdout",
          "text": [
            "Iteration No: 86 ended. Search finished for the next optimal point.\n",
            "Time taken: 0.4504\n",
            "Function value obtained: -0.4086\n",
            "Current minimum: -0.6031\n",
            "Iteration No: 87 started. Searching for the next optimal point.\n"
          ]
        },
        {
          "output_type": "stream",
          "name": "stderr",
          "text": [
            "/usr/local/lib/python3.11/dist-packages/qutip/solver/options.py:16: FutureWarning: Dedicated options class are no longer needed, options should be passed as dict to solvers.\n",
            "  warnings.warn(\n"
          ]
        },
        {
          "output_type": "stream",
          "name": "stdout",
          "text": [
            "Iteration No: 87 ended. Search finished for the next optimal point.\n",
            "Time taken: 4.3572\n",
            "Function value obtained: -0.3474\n",
            "Current minimum: -0.6031\n",
            "Iteration No: 88 started. Searching for the next optimal point.\n"
          ]
        },
        {
          "output_type": "stream",
          "name": "stderr",
          "text": [
            "/usr/local/lib/python3.11/dist-packages/qutip/solver/options.py:16: FutureWarning: Dedicated options class are no longer needed, options should be passed as dict to solvers.\n",
            "  warnings.warn(\n"
          ]
        },
        {
          "output_type": "stream",
          "name": "stdout",
          "text": [
            "Iteration No: 88 ended. Search finished for the next optimal point.\n",
            "Time taken: 1.0321\n",
            "Function value obtained: -0.0106\n",
            "Current minimum: -0.6031\n",
            "Iteration No: 89 started. Searching for the next optimal point.\n"
          ]
        },
        {
          "output_type": "stream",
          "name": "stderr",
          "text": [
            "/usr/local/lib/python3.11/dist-packages/qutip/solver/options.py:16: FutureWarning: Dedicated options class are no longer needed, options should be passed as dict to solvers.\n",
            "  warnings.warn(\n"
          ]
        },
        {
          "output_type": "stream",
          "name": "stdout",
          "text": [
            "Iteration No: 89 ended. Search finished for the next optimal point.\n",
            "Time taken: 0.4884\n",
            "Function value obtained: -0.0201\n",
            "Current minimum: -0.6031\n",
            "Iteration No: 90 started. Searching for the next optimal point.\n"
          ]
        },
        {
          "output_type": "stream",
          "name": "stderr",
          "text": [
            "/usr/local/lib/python3.11/dist-packages/qutip/solver/options.py:16: FutureWarning: Dedicated options class are no longer needed, options should be passed as dict to solvers.\n",
            "  warnings.warn(\n"
          ]
        },
        {
          "output_type": "stream",
          "name": "stdout",
          "text": [
            "Iteration No: 90 ended. Search finished for the next optimal point.\n",
            "Time taken: 3.6710\n",
            "Function value obtained: -0.4047\n",
            "Current minimum: -0.6031\n",
            "Iteration No: 91 started. Searching for the next optimal point.\n"
          ]
        },
        {
          "output_type": "stream",
          "name": "stderr",
          "text": [
            "/usr/local/lib/python3.11/dist-packages/qutip/solver/options.py:16: FutureWarning: Dedicated options class are no longer needed, options should be passed as dict to solvers.\n",
            "  warnings.warn(\n"
          ]
        },
        {
          "output_type": "stream",
          "name": "stdout",
          "text": [
            "Iteration No: 91 ended. Search finished for the next optimal point.\n",
            "Time taken: 3.4167\n",
            "Function value obtained: -0.3956\n",
            "Current minimum: -0.6031\n",
            "Iteration No: 92 started. Searching for the next optimal point.\n"
          ]
        },
        {
          "output_type": "stream",
          "name": "stderr",
          "text": [
            "/usr/local/lib/python3.11/dist-packages/qutip/solver/options.py:16: FutureWarning: Dedicated options class are no longer needed, options should be passed as dict to solvers.\n",
            "  warnings.warn(\n"
          ]
        },
        {
          "output_type": "stream",
          "name": "stdout",
          "text": [
            "Iteration No: 92 ended. Search finished for the next optimal point.\n",
            "Time taken: 2.5928\n",
            "Function value obtained: -0.1468\n",
            "Current minimum: -0.6031\n",
            "Iteration No: 93 started. Searching for the next optimal point.\n"
          ]
        },
        {
          "output_type": "stream",
          "name": "stderr",
          "text": [
            "/usr/local/lib/python3.11/dist-packages/qutip/solver/options.py:16: FutureWarning: Dedicated options class are no longer needed, options should be passed as dict to solvers.\n",
            "  warnings.warn(\n"
          ]
        },
        {
          "output_type": "stream",
          "name": "stdout",
          "text": [
            "Iteration No: 93 ended. Search finished for the next optimal point.\n",
            "Time taken: 5.4783\n",
            "Function value obtained: -0.2677\n",
            "Current minimum: -0.6031\n",
            "Iteration No: 94 started. Searching for the next optimal point.\n"
          ]
        },
        {
          "output_type": "stream",
          "name": "stderr",
          "text": [
            "/usr/local/lib/python3.11/dist-packages/qutip/solver/options.py:16: FutureWarning: Dedicated options class are no longer needed, options should be passed as dict to solvers.\n",
            "  warnings.warn(\n"
          ]
        },
        {
          "output_type": "stream",
          "name": "stdout",
          "text": [
            "Iteration No: 94 ended. Search finished for the next optimal point.\n",
            "Time taken: 0.5008\n",
            "Function value obtained: -0.0000\n",
            "Current minimum: -0.6031\n",
            "Iteration No: 95 started. Searching for the next optimal point.\n"
          ]
        },
        {
          "output_type": "stream",
          "name": "stderr",
          "text": [
            "/usr/local/lib/python3.11/dist-packages/qutip/solver/options.py:16: FutureWarning: Dedicated options class are no longer needed, options should be passed as dict to solvers.\n",
            "  warnings.warn(\n"
          ]
        },
        {
          "output_type": "stream",
          "name": "stdout",
          "text": [
            "Iteration No: 95 ended. Search finished for the next optimal point.\n",
            "Time taken: 0.5143\n",
            "Function value obtained: -0.0085\n",
            "Current minimum: -0.6031\n",
            "Iteration No: 96 started. Searching for the next optimal point.\n"
          ]
        },
        {
          "output_type": "stream",
          "name": "stderr",
          "text": [
            "/usr/local/lib/python3.11/dist-packages/qutip/solver/options.py:16: FutureWarning: Dedicated options class are no longer needed, options should be passed as dict to solvers.\n",
            "  warnings.warn(\n"
          ]
        },
        {
          "output_type": "stream",
          "name": "stdout",
          "text": [
            "Iteration No: 96 ended. Search finished for the next optimal point.\n",
            "Time taken: 0.6690\n",
            "Function value obtained: -0.0209\n",
            "Current minimum: -0.6031\n",
            "Iteration No: 97 started. Searching for the next optimal point.\n"
          ]
        },
        {
          "output_type": "stream",
          "name": "stderr",
          "text": [
            "/usr/local/lib/python3.11/dist-packages/qutip/solver/options.py:16: FutureWarning: Dedicated options class are no longer needed, options should be passed as dict to solvers.\n",
            "  warnings.warn(\n"
          ]
        },
        {
          "output_type": "stream",
          "name": "stdout",
          "text": [
            "Iteration No: 97 ended. Search finished for the next optimal point.\n",
            "Time taken: 3.0851\n",
            "Function value obtained: -0.5552\n",
            "Current minimum: -0.6031\n",
            "Iteration No: 98 started. Searching for the next optimal point.\n"
          ]
        },
        {
          "output_type": "stream",
          "name": "stderr",
          "text": [
            "/usr/local/lib/python3.11/dist-packages/qutip/solver/options.py:16: FutureWarning: Dedicated options class are no longer needed, options should be passed as dict to solvers.\n",
            "  warnings.warn(\n"
          ]
        },
        {
          "output_type": "stream",
          "name": "stdout",
          "text": [
            "Iteration No: 98 ended. Search finished for the next optimal point.\n",
            "Time taken: 4.2500\n",
            "Function value obtained: -0.3019\n",
            "Current minimum: -0.6031\n",
            "Iteration No: 99 started. Searching for the next optimal point.\n"
          ]
        },
        {
          "output_type": "stream",
          "name": "stderr",
          "text": [
            "/usr/local/lib/python3.11/dist-packages/qutip/solver/options.py:16: FutureWarning: Dedicated options class are no longer needed, options should be passed as dict to solvers.\n",
            "  warnings.warn(\n"
          ]
        },
        {
          "output_type": "stream",
          "name": "stdout",
          "text": [
            "Iteration No: 99 ended. Search finished for the next optimal point.\n",
            "Time taken: 2.6994\n",
            "Function value obtained: -0.3681\n",
            "Current minimum: -0.6031\n",
            "Iteration No: 100 started. Searching for the next optimal point.\n"
          ]
        },
        {
          "output_type": "stream",
          "name": "stderr",
          "text": [
            "/usr/local/lib/python3.11/dist-packages/qutip/solver/options.py:16: FutureWarning: Dedicated options class are no longer needed, options should be passed as dict to solvers.\n",
            "  warnings.warn(\n"
          ]
        },
        {
          "output_type": "stream",
          "name": "stdout",
          "text": [
            "Iteration No: 100 ended. Search finished for the next optimal point.\n",
            "Time taken: 5.7396\n",
            "Function value obtained: -0.0836\n",
            "Current minimum: -0.6031\n",
            "Optimal f: 0.09, Optimal t: 39.56 s\n"
          ]
        }
      ],
      "source": [
        "# Search space for Bayesian Optimization\n",
        "space  = [Real(0.0, 25.0 * 2 * np.pi, name='f'),\n",
        "          Real(0, 100, name='t')]\n",
        "\n",
        "g = 0.05\n",
        "\n",
        "# General objective function that accepts named arguments\n",
        "def objective_general(f, t):\n",
        "    wc = wa\n",
        "    w0 = wc\n",
        "    delta_c = wc - w0\n",
        "    delta_a = wa - w0\n",
        "    tau = wc * t\n",
        "    H = (delta_c * a.dag() * a + 0.5 * delta_a * sigma_z + g * (sigma_plus * a + sigma_minus * a.dag()) + 0.5 * f * (sigma_minus + sigma_plus))\n",
        "    H /= wc\n",
        "    result = mesolve(H, psi_den, [0, tau], c_ops=[], e_ops=[], options=Options(store_final_state=True, nsteps = 100000000000, atol = 1e-7, rtol = 1e-7))\n",
        "    final_rho = result.states[-1]\n",
        "    fid = fidelity(target_den, final_rho)\n",
        "    return -fid  # return negative fidelity for minimization\n",
        "\n",
        "def objective(x):\n",
        "    return objective_general(x[0], x[1])\n",
        "\n",
        "# Perform Bayesian Optimization\n",
        "res = gp_minimize(objective, space, n_calls=100, random_state=42, verbose=True, acq_func='EI')\n",
        "\n",
        "# Best parameters found\n",
        "print(f\"Optimal f: {res.x[0]/(2 * np.pi):.2f}, Optimal t: {res.x[1]:.2f} s\")"
      ]
    },
    {
      "cell_type": "code",
      "execution_count": 10,
      "metadata": {
        "id": "IWN_tgNj1rJE",
        "colab": {
          "base_uri": "https://localhost:8080/",
          "height": 473
        },
        "outputId": "cce3a2d3-fabd-4fa7-c24f-5e304c5e27fd"
      },
      "outputs": [
        {
          "output_type": "display_data",
          "data": {
            "text/plain": [
              "<Figure size 640x480 with 1 Axes>"
            ],
            "image/png": "[encoded data removed]"
          },
          "metadata": {}
        }
      ],
      "source": [
        "plot_convergence(res)\n",
        "plt.show()"
      ]
    },
    {
      "cell_type": "code",
      "execution_count": 11,
      "metadata": {
        "id": "kVWqb38TKelj",
        "colab": {
          "base_uri": "https://localhost:8080/",
          "height": 443
        },
        "outputId": "ceab8fe2-c997-47b9-fa26-0d4a2bdef80e"
      },
      "outputs": [
        {
          "output_type": "display_data",
          "data": {
            "text/plain": [
              "<Figure size 400x400 with 5 Axes>"
            ],
            "image/png": "[encoded data removed]"
          },
          "metadata": {}
        }
      ],
      "source": [
        "from skopt.plots import plot_convergence, plot_objective, plot_evaluations\n",
        "\n",
        "fig = plot_objective(res, dimensions=['f', 't'])\n",
        "plt.show()"
      ]
    },
    {
      "cell_type": "code",
      "source": [
        "fig = plot_evaluations(res, dimensions=['f', 't'])\n",
        "plt.show()"
      ],
      "metadata": {
        "colab": {
          "base_uri": "https://localhost:8080/",
          "height": 443
        },
        "id": "r6f0wHblPOnW",
        "outputId": "d5a22059-a636-42b3-d834-1fc874920175"
      },
      "execution_count": 12,
      "outputs": [
        {
          "output_type": "display_data",
          "data": {
            "text/plain": [
              "<Figure size 400x400 with 5 Axes>"
            ],
            "image/png": "[encoded data removed]"
          },
          "metadata": {}
        }
      ]
    },
    {
      "cell_type": "markdown",
      "source": [
        "# ** Implenting pulse powered f(t)**"
      ],
      "metadata": {
        "id": "UYTXkVMW3BeX"
      }
    },
    {
      "cell_type": "code",
      "source": [
        "def f_t(t, args):\n",
        "    \"\"\" Time-dependent driving amplitude.\n",
        "        args contains 'on_time' when the pulse turns off.\n",
        "    \"\"\"\n",
        "    on_time = args['on_time']\n",
        "    f_max = args['f_max']\n",
        "    return f_max if t < on_time else 0\n"
      ],
      "metadata": {
        "id": "SOZM94Qd3pO9"
      },
      "execution_count": 13,
      "outputs": []
    },
    {
      "cell_type": "code",
      "source": [
        "def objective_general(f_max, on_time):\n",
        "    wc = wa = 1.0  # Example values\n",
        "    w0 = wc\n",
        "    delta_c = wc - w0\n",
        "    delta_a = wa - w0\n",
        "    tau = wc * times  # Total time and steps for simulation\n",
        "\n",
        "    # Time-dependent driving term\n",
        "    H_drive = [0.5 * (sigma_plus + sigma_minus), lambda t, args: f_t(t, args)]\n",
        "    H_static = delta_c * a.dag() * a + 0.5 * delta_a * sigma_z + g * (sigma_plus * a + sigma_minus * a.dag())\n",
        "    H = [H_static, H_drive]\n",
        "\n",
        "    result = mesolve(H, psi_den, tau, c_ops=[], e_ops=[], options={'nsteps': 1e9, 'atol': 1e-7, 'rtol': 1e-7}, args={'on_time': on_time, 'f_max': f_max})\n",
        "    final_rho = result.states[-1]\n",
        "    fid = fidelity(target_den, final_rho)\n",
        "    return -fid  # Negative for minimization"
      ],
      "metadata": {
        "id": "vyfS2N3W26YK"
      },
      "execution_count": 19,
      "outputs": []
    },
    {
      "cell_type": "code",
      "source": [
        "def objective(x):\n",
        "    return objective_general(x[0], x[1])\n",
        "\n",
        "# Define the parameter space\n",
        "space = [\n",
        "    Real(0.0, 25.0 * 2 * np.pi, name='f_max'),  # Max amplitude of the pulse\n",
        "    Real(0, 100, name='on_time')                # Time at which the pulse turns off\n",
        "]\n",
        "\n",
        "# Perform Bayesian Optimization\n",
        "res = gp_minimize(objective, space, n_calls=100, random_state=42, verbose=True, acq_func='EI')\n",
        "\n",
        "# Print the best parameters found\n",
        "print(f\"Optimal f_max: {res.x[0]/(2 * np.pi):.2f} rad/s, Optimal on_time: {res.x[1]:.2f} s\")\n"
      ],
      "metadata": {
        "colab": {
          "base_uri": "https://localhost:8080/"
        },
        "id": "R4AvpIE1PbZi",
        "outputId": "68533a95-0e6d-40a9-bb4c-ba31ae18aeb8"
      },
      "execution_count": 20,
      "outputs": [
        {
          "output_type": "stream",
          "name": "stdout",
          "text": [
            "Iteration No: 1 started. Evaluating function at random point.\n",
            "Iteration No: 1 ended. Evaluation done at random point.\n",
            "Time taken: 35.1480\n",
            "Function value obtained: -0.7565\n",
            "Current minimum: -0.7565\n",
            "Iteration No: 2 started. Evaluating function at random point.\n",
            "Iteration No: 2 ended. Evaluation done at random point.\n",
            "Time taken: 49.7218\n",
            "Function value obtained: -0.0807\n",
            "Current minimum: -0.7565\n",
            "Iteration No: 3 started. Evaluating function at random point.\n",
            "Iteration No: 3 ended. Evaluation done at random point.\n",
            "Time taken: 32.2028\n",
            "Function value obtained: -0.9741\n",
            "Current minimum: -0.9741\n",
            "Iteration No: 4 started. Evaluating function at random point.\n",
            "Iteration No: 4 ended. Evaluation done at random point.\n",
            "Time taken: 37.6049\n",
            "Function value obtained: -0.3028\n",
            "Current minimum: -0.9741\n",
            "Iteration No: 5 started. Evaluating function at random point.\n",
            "Iteration No: 5 ended. Evaluation done at random point.\n",
            "Time taken: 40.1722\n",
            "Function value obtained: -0.1853\n",
            "Current minimum: -0.9741\n",
            "Iteration No: 6 started. Evaluating function at random point.\n",
            "Iteration No: 6 ended. Evaluation done at random point.\n",
            "Time taken: 39.6180\n",
            "Function value obtained: -0.1340\n",
            "Current minimum: -0.9741\n",
            "Iteration No: 7 started. Evaluating function at random point.\n",
            "Iteration No: 7 ended. Evaluation done at random point.\n",
            "Time taken: 29.9703\n",
            "Function value obtained: -0.4954\n",
            "Current minimum: -0.9741\n",
            "Iteration No: 8 started. Evaluating function at random point.\n",
            "Iteration No: 8 ended. Evaluation done at random point.\n",
            "Time taken: 53.1751\n",
            "Function value obtained: -0.1078\n",
            "Current minimum: -0.9741\n",
            "Iteration No: 9 started. Evaluating function at random point.\n",
            "Iteration No: 9 ended. Evaluation done at random point.\n",
            "Time taken: 30.7525\n",
            "Function value obtained: -0.5535\n",
            "Current minimum: -0.9741\n",
            "Iteration No: 10 started. Evaluating function at random point.\n",
            "Iteration No: 10 ended. Evaluation done at random point.\n",
            "Time taken: 36.6366\n",
            "Function value obtained: -0.0733\n",
            "Current minimum: -0.9741\n",
            "Iteration No: 11 started. Searching for the next optimal point.\n",
            "Iteration No: 11 ended. Search finished for the next optimal point.\n",
            "Time taken: 25.3464\n",
            "Function value obtained: -0.0000\n",
            "Current minimum: -0.9741\n",
            "Iteration No: 12 started. Searching for the next optimal point.\n",
            "Iteration No: 12 ended. Search finished for the next optimal point.\n",
            "Time taken: 34.2694\n",
            "Function value obtained: -0.9810\n",
            "Current minimum: -0.9810\n",
            "Iteration No: 13 started. Searching for the next optimal point.\n",
            "Iteration No: 13 ended. Search finished for the next optimal point.\n",
            "Time taken: 33.8769\n",
            "Function value obtained: -0.8877\n",
            "Current minimum: -0.9810\n",
            "Iteration No: 14 started. Searching for the next optimal point.\n",
            "Iteration No: 14 ended. Search finished for the next optimal point.\n",
            "Time taken: 32.6963\n",
            "Function value obtained: -0.6947\n",
            "Current minimum: -0.9810\n",
            "Iteration No: 15 started. Searching for the next optimal point.\n",
            "Iteration No: 15 ended. Search finished for the next optimal point.\n",
            "Time taken: 31.4624\n",
            "Function value obtained: -0.1974\n",
            "Current minimum: -0.9810\n",
            "Iteration No: 16 started. Searching for the next optimal point.\n",
            "Iteration No: 16 ended. Search finished for the next optimal point.\n",
            "Time taken: 34.5039\n",
            "Function value obtained: -0.9178\n",
            "Current minimum: -0.9810\n",
            "Iteration No: 17 started. Searching for the next optimal point.\n",
            "Iteration No: 17 ended. Search finished for the next optimal point.\n",
            "Time taken: 34.8771\n",
            "Function value obtained: -0.7688\n",
            "Current minimum: -0.9810\n",
            "Iteration No: 18 started. Searching for the next optimal point.\n",
            "Iteration No: 18 ended. Search finished for the next optimal point.\n",
            "Time taken: 31.7415\n",
            "Function value obtained: -0.9671\n",
            "Current minimum: -0.9810\n",
            "Iteration No: 19 started. Searching for the next optimal point.\n",
            "Iteration No: 19 ended. Search finished for the next optimal point.\n",
            "Time taken: 34.8534\n",
            "Function value obtained: -0.7455\n",
            "Current minimum: -0.9810\n",
            "Iteration No: 20 started. Searching for the next optimal point.\n",
            "Iteration No: 20 ended. Search finished for the next optimal point.\n",
            "Time taken: 33.1626\n",
            "Function value obtained: -0.9519\n",
            "Current minimum: -0.9810\n",
            "Iteration No: 21 started. Searching for the next optimal point.\n",
            "Iteration No: 21 ended. Search finished for the next optimal point.\n",
            "Time taken: 32.3400\n",
            "Function value obtained: -0.4966\n",
            "Current minimum: -0.9810\n",
            "Iteration No: 22 started. Searching for the next optimal point.\n",
            "Iteration No: 22 ended. Search finished for the next optimal point.\n",
            "Time taken: 62.1722\n",
            "Function value obtained: -0.0188\n",
            "Current minimum: -0.9810\n",
            "Iteration No: 23 started. Searching for the next optimal point.\n",
            "Iteration No: 23 ended. Search finished for the next optimal point.\n",
            "Time taken: 37.4629\n",
            "Function value obtained: -0.8736\n",
            "Current minimum: -0.9810\n",
            "Iteration No: 24 started. Searching for the next optimal point.\n",
            "Iteration No: 24 ended. Search finished for the next optimal point.\n",
            "Time taken: 37.0132\n",
            "Function value obtained: -0.8155\n",
            "Current minimum: -0.9810\n",
            "Iteration No: 25 started. Searching for the next optimal point.\n",
            "Iteration No: 25 ended. Search finished for the next optimal point.\n",
            "Time taken: 24.8141\n",
            "Function value obtained: -0.0000\n",
            "Current minimum: -0.9810\n",
            "Iteration No: 26 started. Searching for the next optimal point.\n",
            "Iteration No: 26 ended. Search finished for the next optimal point.\n",
            "Time taken: 30.0033\n",
            "Function value obtained: -0.0562\n",
            "Current minimum: -0.9810\n",
            "Iteration No: 27 started. Searching for the next optimal point.\n",
            "Iteration No: 27 ended. Search finished for the next optimal point.\n",
            "Time taken: 36.0542\n",
            "Function value obtained: -0.1466\n",
            "Current minimum: -0.9810\n",
            "Iteration No: 28 started. Searching for the next optimal point.\n",
            "Iteration No: 28 ended. Search finished for the next optimal point.\n",
            "Time taken: 37.8224\n",
            "Function value obtained: -0.7886\n",
            "Current minimum: -0.9810\n",
            "Iteration No: 29 started. Searching for the next optimal point.\n",
            "Iteration No: 29 ended. Search finished for the next optimal point.\n",
            "Time taken: 34.7080\n",
            "Function value obtained: -0.8913\n",
            "Current minimum: -0.9810\n",
            "Iteration No: 30 started. Searching for the next optimal point.\n",
            "Iteration No: 30 ended. Search finished for the next optimal point.\n",
            "Time taken: 39.1820\n",
            "Function value obtained: -0.3128\n",
            "Current minimum: -0.9810\n",
            "Iteration No: 31 started. Searching for the next optimal point.\n",
            "Iteration No: 31 ended. Search finished for the next optimal point.\n",
            "Time taken: 30.4125\n",
            "Function value obtained: -0.2768\n",
            "Current minimum: -0.9810\n",
            "Iteration No: 32 started. Searching for the next optimal point.\n",
            "Iteration No: 32 ended. Search finished for the next optimal point.\n",
            "Time taken: 24.7413\n",
            "Function value obtained: -0.0000\n",
            "Current minimum: -0.9810\n",
            "Iteration No: 33 started. Searching for the next optimal point.\n",
            "Iteration No: 33 ended. Search finished for the next optimal point.\n",
            "Time taken: 24.3440\n",
            "Function value obtained: -0.0000\n",
            "Current minimum: -0.9810\n",
            "Iteration No: 34 started. Searching for the next optimal point.\n",
            "Iteration No: 34 ended. Search finished for the next optimal point.\n",
            "Time taken: 36.0469\n",
            "Function value obtained: -0.2232\n",
            "Current minimum: -0.9810\n",
            "Iteration No: 35 started. Searching for the next optimal point.\n",
            "Iteration No: 35 ended. Search finished for the next optimal point.\n",
            "Time taken: 43.8929\n",
            "Function value obtained: -0.1092\n",
            "Current minimum: -0.9810\n",
            "Iteration No: 36 started. Searching for the next optimal point.\n",
            "Iteration No: 36 ended. Search finished for the next optimal point.\n",
            "Time taken: 58.5813\n",
            "Function value obtained: -0.0462\n",
            "Current minimum: -0.9810\n",
            "Iteration No: 37 started. Searching for the next optimal point.\n",
            "Iteration No: 37 ended. Search finished for the next optimal point.\n",
            "Time taken: 34.9116\n",
            "Function value obtained: -0.6251\n",
            "Current minimum: -0.9810\n",
            "Iteration No: 38 started. Searching for the next optimal point.\n",
            "Iteration No: 38 ended. Search finished for the next optimal point.\n",
            "Time taken: 35.7511\n",
            "Function value obtained: -0.2847\n",
            "Current minimum: -0.9810\n",
            "Iteration No: 39 started. Searching for the next optimal point.\n",
            "Iteration No: 39 ended. Search finished for the next optimal point.\n",
            "Time taken: 27.6306\n",
            "Function value obtained: -0.0003\n",
            "Current minimum: -0.9810\n",
            "Iteration No: 40 started. Searching for the next optimal point.\n",
            "Iteration No: 40 ended. Search finished for the next optimal point.\n",
            "Time taken: 53.6471\n",
            "Function value obtained: -0.0209\n",
            "Current minimum: -0.9810\n",
            "Iteration No: 41 started. Searching for the next optimal point.\n",
            "Iteration No: 41 ended. Search finished for the next optimal point.\n",
            "Time taken: 36.7901\n",
            "Function value obtained: -0.6750\n",
            "Current minimum: -0.9810\n",
            "Iteration No: 42 started. Searching for the next optimal point.\n",
            "Iteration No: 42 ended. Search finished for the next optimal point.\n",
            "Time taken: 36.4518\n",
            "Function value obtained: -0.7148\n",
            "Current minimum: -0.9810\n",
            "Iteration No: 43 started. Searching for the next optimal point.\n",
            "Iteration No: 43 ended. Search finished for the next optimal point.\n",
            "Time taken: 35.3257\n",
            "Function value obtained: -0.5241\n",
            "Current minimum: -0.9810\n",
            "Iteration No: 44 started. Searching for the next optimal point.\n",
            "Iteration No: 44 ended. Search finished for the next optimal point.\n",
            "Time taken: 31.4389\n",
            "Function value obtained: -0.6316\n",
            "Current minimum: -0.9810\n",
            "Iteration No: 45 started. Searching for the next optimal point.\n",
            "Iteration No: 45 ended. Search finished for the next optimal point.\n",
            "Time taken: 33.6365\n",
            "Function value obtained: -0.4597\n",
            "Current minimum: -0.9810\n",
            "Iteration No: 46 started. Searching for the next optimal point.\n",
            "Iteration No: 46 ended. Search finished for the next optimal point.\n",
            "Time taken: 35.5490\n",
            "Function value obtained: -0.0907\n",
            "Current minimum: -0.9810\n",
            "Iteration No: 47 started. Searching for the next optimal point.\n",
            "Iteration No: 47 ended. Search finished for the next optimal point.\n",
            "Time taken: 45.3280\n",
            "Function value obtained: -0.2939\n",
            "Current minimum: -0.9810\n",
            "Iteration No: 48 started. Searching for the next optimal point.\n",
            "Iteration No: 48 ended. Search finished for the next optimal point.\n",
            "Time taken: 34.4226\n",
            "Function value obtained: -0.6836\n",
            "Current minimum: -0.9810\n",
            "Iteration No: 49 started. Searching for the next optimal point.\n",
            "Iteration No: 49 ended. Search finished for the next optimal point.\n",
            "Time taken: 40.8803\n",
            "Function value obtained: -0.8012\n",
            "Current minimum: -0.9810\n",
            "Iteration No: 50 started. Searching for the next optimal point.\n",
            "Iteration No: 50 ended. Search finished for the next optimal point.\n",
            "Time taken: 35.0711\n",
            "Function value obtained: -0.7561\n",
            "Current minimum: -0.9810\n",
            "Iteration No: 51 started. Searching for the next optimal point.\n",
            "Iteration No: 51 ended. Search finished for the next optimal point.\n",
            "Time taken: 42.4651\n",
            "Function value obtained: -0.7558\n",
            "Current minimum: -0.9810\n",
            "Iteration No: 52 started. Searching for the next optimal point.\n",
            "Iteration No: 52 ended. Search finished for the next optimal point.\n",
            "Time taken: 43.7087\n",
            "Function value obtained: -0.5514\n",
            "Current minimum: -0.9810\n",
            "Iteration No: 53 started. Searching for the next optimal point.\n",
            "Iteration No: 53 ended. Search finished for the next optimal point.\n",
            "Time taken: 34.1463\n",
            "Function value obtained: -0.0666\n",
            "Current minimum: -0.9810\n",
            "Iteration No: 54 started. Searching for the next optimal point.\n",
            "Iteration No: 54 ended. Search finished for the next optimal point.\n",
            "Time taken: 30.7308\n",
            "Function value obtained: -0.5372\n",
            "Current minimum: -0.9810\n",
            "Iteration No: 55 started. Searching for the next optimal point.\n",
            "Iteration No: 55 ended. Search finished for the next optimal point.\n",
            "Time taken: 58.3448\n",
            "Function value obtained: -0.0857\n",
            "Current minimum: -0.9810\n",
            "Iteration No: 56 started. Searching for the next optimal point.\n",
            "Iteration No: 56 ended. Search finished for the next optimal point.\n",
            "Time taken: 28.3649\n",
            "Function value obtained: -0.0491\n",
            "Current minimum: -0.9810\n",
            "Iteration No: 57 started. Searching for the next optimal point.\n",
            "Iteration No: 57 ended. Search finished for the next optimal point.\n",
            "Time taken: 45.7116\n",
            "Function value obtained: -0.0945\n",
            "Current minimum: -0.9810\n",
            "Iteration No: 58 started. Searching for the next optimal point.\n",
            "Iteration No: 58 ended. Search finished for the next optimal point.\n",
            "Time taken: 39.0952\n",
            "Function value obtained: -0.1955\n",
            "Current minimum: -0.9810\n",
            "Iteration No: 59 started. Searching for the next optimal point.\n",
            "Iteration No: 59 ended. Search finished for the next optimal point.\n",
            "Time taken: 32.8813\n",
            "Function value obtained: -0.5665\n",
            "Current minimum: -0.9810\n",
            "Iteration No: 60 started. Searching for the next optimal point.\n",
            "Iteration No: 60 ended. Search finished for the next optimal point.\n",
            "Time taken: 38.0889\n",
            "Function value obtained: -0.1469\n",
            "Current minimum: -0.9810\n",
            "Iteration No: 61 started. Searching for the next optimal point.\n",
            "Iteration No: 61 ended. Search finished for the next optimal point.\n",
            "Time taken: 57.8167\n",
            "Function value obtained: -0.2548\n",
            "Current minimum: -0.9810\n",
            "Iteration No: 62 started. Searching for the next optimal point.\n",
            "Iteration No: 62 ended. Search finished for the next optimal point.\n",
            "Time taken: 37.2818\n",
            "Function value obtained: -0.0326\n",
            "Current minimum: -0.9810\n",
            "Iteration No: 63 started. Searching for the next optimal point.\n",
            "Iteration No: 63 ended. Search finished for the next optimal point.\n",
            "Time taken: 33.4911\n",
            "Function value obtained: -0.7600\n",
            "Current minimum: -0.9810\n",
            "Iteration No: 64 started. Searching for the next optimal point.\n",
            "Iteration No: 64 ended. Search finished for the next optimal point.\n",
            "Time taken: 32.7992\n",
            "Function value obtained: -0.5288\n",
            "Current minimum: -0.9810\n",
            "Iteration No: 65 started. Searching for the next optimal point.\n",
            "Iteration No: 65 ended. Search finished for the next optimal point.\n",
            "Time taken: 39.6347\n",
            "Function value obtained: -0.0196\n",
            "Current minimum: -0.9810\n",
            "Iteration No: 66 started. Searching for the next optimal point.\n",
            "Iteration No: 66 ended. Search finished for the next optimal point.\n",
            "Time taken: 31.1018\n",
            "Function value obtained: -0.6674\n",
            "Current minimum: -0.9810\n",
            "Iteration No: 67 started. Searching for the next optimal point.\n",
            "Iteration No: 67 ended. Search finished for the next optimal point.\n",
            "Time taken: 30.0383\n",
            "Function value obtained: -0.1147\n",
            "Current minimum: -0.9810\n",
            "Iteration No: 68 started. Searching for the next optimal point.\n",
            "Iteration No: 68 ended. Search finished for the next optimal point.\n",
            "Time taken: 41.6445\n",
            "Function value obtained: -0.7824\n",
            "Current minimum: -0.9810\n",
            "Iteration No: 69 started. Searching for the next optimal point.\n",
            "Iteration No: 69 ended. Search finished for the next optimal point.\n",
            "Time taken: 42.2643\n",
            "Function value obtained: -0.7240\n",
            "Current minimum: -0.9810\n",
            "Iteration No: 70 started. Searching for the next optimal point.\n",
            "Iteration No: 70 ended. Search finished for the next optimal point.\n",
            "Time taken: 38.7858\n",
            "Function value obtained: -0.9291\n",
            "Current minimum: -0.9810\n",
            "Iteration No: 71 started. Searching for the next optimal point.\n",
            "Iteration No: 71 ended. Search finished for the next optimal point.\n",
            "Time taken: 38.5850\n",
            "Function value obtained: -0.3673\n",
            "Current minimum: -0.9810\n",
            "Iteration No: 72 started. Searching for the next optimal point.\n",
            "Iteration No: 72 ended. Search finished for the next optimal point.\n",
            "Time taken: 42.7678\n",
            "Function value obtained: -0.4508\n",
            "Current minimum: -0.9810\n",
            "Iteration No: 73 started. Searching for the next optimal point.\n",
            "Iteration No: 73 ended. Search finished for the next optimal point.\n",
            "Time taken: 60.1213\n",
            "Function value obtained: -0.1014\n",
            "Current minimum: -0.9810\n",
            "Iteration No: 74 started. Searching for the next optimal point.\n",
            "Iteration No: 74 ended. Search finished for the next optimal point.\n",
            "Time taken: 33.8883\n",
            "Function value obtained: -0.1993\n",
            "Current minimum: -0.9810\n",
            "Iteration No: 75 started. Searching for the next optimal point.\n",
            "Iteration No: 75 ended. Search finished for the next optimal point.\n",
            "Time taken: 43.1470\n",
            "Function value obtained: -0.1034\n",
            "Current minimum: -0.9810\n",
            "Iteration No: 76 started. Searching for the next optimal point.\n",
            "Iteration No: 76 ended. Search finished for the next optimal point.\n",
            "Time taken: 54.5391\n",
            "Function value obtained: -0.2139\n",
            "Current minimum: -0.9810\n",
            "Iteration No: 77 started. Searching for the next optimal point.\n",
            "Iteration No: 77 ended. Search finished for the next optimal point.\n",
            "Time taken: 31.3602\n",
            "Function value obtained: -0.3383\n",
            "Current minimum: -0.9810\n",
            "Iteration No: 78 started. Searching for the next optimal point.\n",
            "Iteration No: 78 ended. Search finished for the next optimal point.\n",
            "Time taken: 48.8494\n",
            "Function value obtained: -0.2018\n",
            "Current minimum: -0.9810\n",
            "Iteration No: 79 started. Searching for the next optimal point.\n",
            "Iteration No: 79 ended. Search finished for the next optimal point.\n",
            "Time taken: 57.9361\n",
            "Function value obtained: -0.1008\n",
            "Current minimum: -0.9810\n",
            "Iteration No: 80 started. Searching for the next optimal point.\n",
            "Iteration No: 80 ended. Search finished for the next optimal point.\n",
            "Time taken: 32.5709\n",
            "Function value obtained: -0.8624\n",
            "Current minimum: -0.9810\n",
            "Iteration No: 81 started. Searching for the next optimal point.\n",
            "Iteration No: 81 ended. Search finished for the next optimal point.\n",
            "Time taken: 32.4734\n",
            "Function value obtained: -0.4394\n",
            "Current minimum: -0.9810\n",
            "Iteration No: 82 started. Searching for the next optimal point.\n",
            "Iteration No: 82 ended. Search finished for the next optimal point.\n",
            "Time taken: 39.5615\n",
            "Function value obtained: -0.2461\n",
            "Current minimum: -0.9810\n",
            "Iteration No: 83 started. Searching for the next optimal point.\n",
            "Iteration No: 83 ended. Search finished for the next optimal point.\n",
            "Time taken: 34.4890\n",
            "Function value obtained: -0.5699\n",
            "Current minimum: -0.9810\n",
            "Iteration No: 84 started. Searching for the next optimal point.\n",
            "Iteration No: 84 ended. Search finished for the next optimal point.\n",
            "Time taken: 37.2068\n",
            "Function value obtained: -0.8330\n",
            "Current minimum: -0.9810\n",
            "Iteration No: 85 started. Searching for the next optimal point.\n",
            "Iteration No: 85 ended. Search finished for the next optimal point.\n",
            "Time taken: 33.3416\n",
            "Function value obtained: -0.9681\n",
            "Current minimum: -0.9810\n",
            "Iteration No: 86 started. Searching for the next optimal point.\n",
            "Iteration No: 86 ended. Search finished for the next optimal point.\n",
            "Time taken: 33.1368\n",
            "Function value obtained: -0.9352\n",
            "Current minimum: -0.9810\n",
            "Iteration No: 87 started. Searching for the next optimal point.\n",
            "Iteration No: 87 ended. Search finished for the next optimal point.\n",
            "Time taken: 36.7640\n",
            "Function value obtained: -0.1934\n",
            "Current minimum: -0.9810\n",
            "Iteration No: 88 started. Searching for the next optimal point.\n",
            "Iteration No: 88 ended. Search finished for the next optimal point.\n",
            "Time taken: 34.3531\n",
            "Function value obtained: -0.7439\n",
            "Current minimum: -0.9810\n",
            "Iteration No: 89 started. Searching for the next optimal point.\n",
            "Iteration No: 89 ended. Search finished for the next optimal point.\n",
            "Time taken: 36.8345\n",
            "Function value obtained: -0.3979\n",
            "Current minimum: -0.9810\n",
            "Iteration No: 90 started. Searching for the next optimal point.\n",
            "Iteration No: 90 ended. Search finished for the next optimal point.\n",
            "Time taken: 37.2926\n",
            "Function value obtained: -0.0209\n",
            "Current minimum: -0.9810\n",
            "Iteration No: 91 started. Searching for the next optimal point.\n",
            "Iteration No: 91 ended. Search finished for the next optimal point.\n",
            "Time taken: 33.1716\n",
            "Function value obtained: -0.8875\n",
            "Current minimum: -0.9810\n",
            "Iteration No: 92 started. Searching for the next optimal point.\n",
            "Iteration No: 92 ended. Search finished for the next optimal point.\n",
            "Time taken: 33.3943\n",
            "Function value obtained: -0.7567\n",
            "Current minimum: -0.9810\n",
            "Iteration No: 93 started. Searching for the next optimal point.\n",
            "Iteration No: 93 ended. Search finished for the next optimal point.\n",
            "Time taken: 32.7826\n",
            "Function value obtained: -0.1983\n",
            "Current minimum: -0.9810\n",
            "Iteration No: 94 started. Searching for the next optimal point.\n",
            "Iteration No: 94 ended. Search finished for the next optimal point.\n",
            "Time taken: 34.6850\n",
            "Function value obtained: -0.7891\n",
            "Current minimum: -0.9810\n",
            "Iteration No: 95 started. Searching for the next optimal point.\n",
            "Iteration No: 95 ended. Search finished for the next optimal point.\n",
            "Time taken: 39.8158\n",
            "Function value obtained: -0.8664\n",
            "Current minimum: -0.9810\n",
            "Iteration No: 96 started. Searching for the next optimal point.\n",
            "Iteration No: 96 ended. Search finished for the next optimal point.\n",
            "Time taken: 41.1460\n",
            "Function value obtained: -0.3860\n",
            "Current minimum: -0.9810\n",
            "Iteration No: 97 started. Searching for the next optimal point.\n",
            "Iteration No: 97 ended. Search finished for the next optimal point.\n",
            "Time taken: 32.4562\n",
            "Function value obtained: -0.5215\n",
            "Current minimum: -0.9810\n",
            "Iteration No: 98 started. Searching for the next optimal point.\n",
            "Iteration No: 98 ended. Search finished for the next optimal point.\n",
            "Time taken: 60.1711\n",
            "Function value obtained: -0.0981\n",
            "Current minimum: -0.9810\n",
            "Iteration No: 99 started. Searching for the next optimal point.\n",
            "Iteration No: 99 ended. Search finished for the next optimal point.\n",
            "Time taken: 31.6947\n",
            "Function value obtained: -0.3430\n",
            "Current minimum: -0.9810\n",
            "Iteration No: 100 started. Searching for the next optimal point.\n",
            "Iteration No: 100 ended. Search finished for the next optimal point.\n",
            "Time taken: 35.2821\n",
            "Function value obtained: -0.7051\n",
            "Current minimum: -0.9810\n",
            "Optimal f_max: 13.28 rad/s, Optimal on_time: 13.36 s\n"
          ]
        }
      ]
    },
    {
      "cell_type": "code",
      "source": [
        "plot_convergence(res)\n",
        "plt.show()"
      ],
      "metadata": {
        "colab": {
          "base_uri": "https://localhost:8080/",
          "height": 473
        },
        "id": "ASX95FevPtk1",
        "outputId": "b79b36dd-b531-450f-db55-c2d3da266e93"
      },
      "execution_count": 21,
      "outputs": [
        {
          "output_type": "display_data",
          "data": {
            "text/plain": [
              "<Figure size 640x480 with 1 Axes>"
            ],
            "image/png": "[encoded data removed]"
          },
          "metadata": {}
        }
      ]
    },
    {
      "cell_type": "code",
      "source": [
        "\n",
        "fig = plot_objective(res, dimensions=['f_max', 'driving_time'])\n",
        "plt.show()"
      ],
      "metadata": {
        "colab": {
          "base_uri": "https://localhost:8080/",
          "height": 443
        },
        "id": "Y5kYdhFxIsA6",
        "outputId": "2cbd6db2-5a8e-4652-8e4e-b3f9f2a821db"
      },
      "execution_count": 22,
      "outputs": [
        {
          "output_type": "display_data",
          "data": {
            "text/plain": [
              "<Figure size 400x400 with 5 Axes>"
            ],
            "image/png": "[encoded data removed]"
          },
          "metadata": {}
        }
      ]
    },
    {
      "cell_type": "code",
      "source": [
        "fig = plot_evaluations(res, dimensions=['f_max', 't_driving'])\n",
        "plt.show()"
      ],
      "metadata": {
        "colab": {
          "base_uri": "https://localhost:8080/",
          "height": 443
        },
        "id": "S0aRj2jeI1SC",
        "outputId": "12423fd3-57a8-4cb9-a954-5f63186833e3"
      },
      "execution_count": 23,
      "outputs": [
        {
          "output_type": "display_data",
          "data": {
            "text/plain": [
              "<Figure size 400x400 with 5 Axes>"
            ],
            "image/png": "[encoded data removed]"
          },
          "metadata": {}
        }
      ]
    },
    {
      "cell_type": "code",
      "source": [],
      "metadata": {
        "id": "H7gHhhFSI_KB"
      },
      "execution_count": null,
      "outputs": []
    }
  ],
  "metadata": {
    "colab": {
      "machine_shape": "hm",
      "provenance": [],
      "authorship_tag": "ABX9TyPJ6MjIY2jFaIZ4nFxoZAw5",
      "include_colab_link": true
    },
    "kernelspec": {
      "display_name": "Python 3",
      "name": "python3"
    },
    "language_info": {
      "name": "python"
    }
  },
  "nbformat": 4,
  "nbformat_minor": 0
}